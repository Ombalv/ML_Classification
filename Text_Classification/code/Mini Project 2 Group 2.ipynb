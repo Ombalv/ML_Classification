{
  "nbformat": 4,
  "nbformat_minor": 0,
  "metadata": {
    "colab": {
      "provenance": [],
      "toc_visible": true
    },
    "kernelspec": {
      "name": "python3",
      "display_name": "Python 3"
    },
    "language_info": {
      "name": "python"
    }
  },
  "cells": [
    {
      "cell_type": "markdown",
      "source": [
        "# Import Packages"
      ],
      "metadata": {
        "id": "dRfkXftscsxA"
      }
    },
    {
      "cell_type": "code",
      "execution_count": null,
      "metadata": {
        "colab": {
          "base_uri": "https://localhost:8080/"
        },
        "id": "zhNWZRkdbab8",
        "outputId": "cb19d39c-86da-453b-a4ac-4d5f98e64449"
      },
      "outputs": [
        {
          "output_type": "stream",
          "name": "stderr",
          "text": [
            "[nltk_data] Downloading package punkt to /root/nltk_data...\n",
            "[nltk_data]   Unzipping tokenizers/punkt.zip.\n",
            "[nltk_data] Downloading package wordnet to /root/nltk_data...\n",
            "[nltk_data] Downloading package averaged_perceptron_tagger to\n",
            "[nltk_data]     /root/nltk_data...\n",
            "[nltk_data]   Unzipping taggers/averaged_perceptron_tagger.zip.\n",
            "[nltk_data] Downloading package stopwords to /root/nltk_data...\n",
            "[nltk_data]   Unzipping corpora/stopwords.zip.\n"
          ]
        },
        {
          "output_type": "stream",
          "name": "stdout",
          "text": [
            "Collecting git+https://github.com/ClaudeCoulombe/FrenchLefffLemmatizer.git\n",
            "  Cloning https://github.com/ClaudeCoulombe/FrenchLefffLemmatizer.git to /tmp/pip-req-build-2psmt9rt\n",
            "  Running command git clone --filter=blob:none --quiet https://github.com/ClaudeCoulombe/FrenchLefffLemmatizer.git /tmp/pip-req-build-2psmt9rt\n",
            "  Resolved https://github.com/ClaudeCoulombe/FrenchLefffLemmatizer.git to commit bc0ebd0135a6cc78f48ddf184069b4c0b9c017d8\n",
            "  Preparing metadata (setup.py) ... \u001b[?25l\u001b[?25hdone\n",
            "Building wheels for collected packages: FrenchLefffLemmatizer\n",
            "  Building wheel for FrenchLefffLemmatizer (setup.py) ... \u001b[?25l\u001b[?25hdone\n",
            "  Created wheel for FrenchLefffLemmatizer: filename=FrenchLefffLemmatizer-0.3-py3-none-any.whl size=3533513 sha256=660aabc50938a526eb88a2009fae1f662d1499b8674d15f60497cf9859925be0\n",
            "  Stored in directory: /tmp/pip-ephem-wheel-cache-lfjfbixj/wheels/99/54/81/553bffdc8e0781c925f9a26606894935adb29b56175a9a358b\n",
            "Successfully built FrenchLefffLemmatizer\n",
            "Installing collected packages: FrenchLefffLemmatizer\n",
            "Successfully installed FrenchLefffLemmatizer-0.3\n"
          ]
        }
      ],
      "source": [
        "# Import Useful Package\n",
        "from google.colab import drive\n",
        "\n",
        "import pandas as pd\n",
        "import numpy as np\n",
        "import matplotlib.pyplot as plt\n",
        "import time\n",
        "\n",
        "# Sklearn\n",
        "from sklearn.feature_extraction import text\n",
        "from sklearn.feature_extraction.text import CountVectorizer, TfidfVectorizer\n",
        "from sklearn.feature_selection import SelectKBest, chi2\n",
        "from sklearn.model_selection import KFold\n",
        "from sklearn.model_selection import GridSearchCV\n",
        "from sklearn.model_selection import cross_val_score\n",
        "from sklearn.model_selection import cross_validate\n",
        "from sklearn.preprocessing import Normalizer\n",
        "from sklearn.pipeline import Pipeline\n",
        "from sklearn import model_selection\n",
        "\n",
        "## models\n",
        "from sklearn import tree\n",
        "from sklearn.svm import SVC\n",
        "from sklearn.svm import LinearSVC #SVM\n",
        "from sklearn.naive_bayes import MultinomialNB #NB\n",
        "from sklearn.linear_model import LogisticRegression #LR\n",
        "from sklearn.neighbors import KNeighborsClassifier #KNN\n",
        "from sklearn.neural_network import MLPClassifier #multi-layer perceptron\n",
        "from sklearn.ensemble import RandomForestClassifier\n",
        "\n",
        "# nltk\n",
        "import nltk\n",
        "nltk.download('punkt')\n",
        "nltk.download('wordnet')\n",
        "nltk.download('averaged_perceptron_tagger')\n",
        "nltk.download('stopwords')\n",
        "from nltk import word_tokenize\n",
        "from nltk.corpus import wordnet, stopwords\n",
        "from nltk.tokenize import wordpunct_tokenize\n",
        "from nltk.stem import PorterStemmer\n",
        "from nltk.stem import WordNetLemmatizer\n",
        "!pip install git+https://github.com/ClaudeCoulombe/FrenchLefffLemmatizer.git\n",
        "from french_lefff_lemmatizer.french_lefff_lemmatizer import FrenchLefffLemmatizer\n",
        "from spacy.lang.fr.stop_words import STOP_WORDS as fr_stop\n",
        "from spacy.lang.en.stop_words import STOP_WORDS as en_stop\n",
        "\n",
        "\n",
        "# TSNE visualizer\n",
        "from yellowbrick.text import TSNEVisualizer\n",
        "from yellowbrick.text.freqdist import FreqDistVisualizer"
      ]
    },
    {
      "cell_type": "code",
      "source": [
        "from nltk import word_tokenize\n",
        "from nltk.tokenize import wordpunct_tokenize"
      ],
      "metadata": {
        "id": "AmBatuPSJDQy"
      },
      "execution_count": null,
      "outputs": []
    },
    {
      "cell_type": "markdown",
      "source": [
        "# Load and Prepare Data"
      ],
      "metadata": {
        "id": "kpSo81V4pUAE"
      }
    },
    {
      "cell_type": "code",
      "source": [
        "drive.mount('/content/drive')\n",
        "# Load the data\n",
        "train_file_path = '/content/drive/MyDrive/Colab Notebooks/ECSE551 Machine Learning for Engineers/project2/dataset/train.csv'\n",
        "train_data = pd.read_csv(train_file_path, encoding='latin-1')\n",
        "\n",
        "test_file_path = '/content/drive/MyDrive/Colab Notebooks/ECSE551 Machine Learning for Engineers/project2/dataset/test.csv'\n",
        "test_data = pd.read_csv(test_file_path, encoding='latin-1')\n",
        "\n",
        "# print(stop_word)\n",
        "np.random.seed(42)\n",
        "number_of_samples = None\n",
        "\n",
        "if number_of_samples==None:\n",
        "  number_of_samples = len(train_data)\n",
        "\n",
        "# Shuffle the Data\n",
        "train_data = train_data.sample(frac=1, random_state=0).reset_index(drop=True)\n",
        "\n",
        "# Get the TrainData and TestData\n",
        "X_train = train_data['body']\n",
        "y_train = train_data['subreddit']\n",
        "\n",
        "label_name_list = ['Melbourne', 'Paris', 'London', 'Montreal']\n",
        "encoded_y_train = np.array([label_name_list.index(label) for label in y_train])\n",
        "\n",
        "X_test = test_data['body']"
      ],
      "metadata": {
        "colab": {
          "base_uri": "https://localhost:8080/"
        },
        "id": "gBZjeKcmBBo0",
        "outputId": "13d15c35-7fe1-45c5-80df-d90408110e11"
      },
      "execution_count": null,
      "outputs": [
        {
          "output_type": "stream",
          "name": "stdout",
          "text": [
            "Mounted at /content/drive\n"
          ]
        }
      ]
    },
    {
      "cell_type": "code",
      "source": [
        "print(type(X_train))\n",
        "print(type(y_train))\n",
        "print(type(X_test))"
      ],
      "metadata": {
        "colab": {
          "base_uri": "https://localhost:8080/"
        },
        "id": "ATuoo_RdLHwg",
        "outputId": "b5252994-eb94-4207-e4b7-c3c5b3a87365"
      },
      "execution_count": null,
      "outputs": [
        {
          "output_type": "stream",
          "name": "stdout",
          "text": [
            "<class 'pandas.core.series.Series'>\n",
            "<class 'pandas.core.series.Series'>\n",
            "<class 'pandas.core.series.Series'>\n"
          ]
        }
      ]
    },
    {
      "cell_type": "markdown",
      "source": [
        "# Methods for Data-Preprocessing"
      ],
      "metadata": {
        "id": "Mllk2h7Hol6W"
      }
    },
    {
      "cell_type": "code",
      "source": [
        "# Briefly view the shape of train and test data\n",
        "print('train data shape',X_train.shape)\n",
        "print('train label shape',y_train.shape)\n",
        "print('test data shape',X_test.shape)"
      ],
      "metadata": {
        "colab": {
          "base_uri": "https://localhost:8080/"
        },
        "id": "NrICv-mdotaz",
        "outputId": "3c5ed26d-80b8-4756-d0c3-4632f30defcd"
      },
      "execution_count": null,
      "outputs": [
        {
          "output_type": "stream",
          "name": "stdout",
          "text": [
            "train data shape (1400,)\n",
            "train label shape (1400,)\n",
            "test data shape (600,)\n"
          ]
        }
      ]
    },
    {
      "cell_type": "markdown",
      "source": [
        "## Stemming and Lemmalizaion Tokenizers\n"
      ],
      "metadata": {
        "id": "vjmEpwJVpXhD"
      }
    },
    {
      "cell_type": "code",
      "source": [
        "class StemTokenizer:\n",
        "     def __init__(self):\n",
        "       self.wn =PorterStemmer()\n",
        "     def __call__(self, doc):\n",
        "       return [self.wn.stem(t) for t in word_tokenize(doc) if t.isalpha()]"
      ],
      "metadata": {
        "id": "M0R869AYpj56"
      },
      "execution_count": null,
      "outputs": []
    },
    {
      "cell_type": "code",
      "source": [
        "class LemmaTokenizer:\n",
        "     def __init__(self):\n",
        "       self.wnl = WordNetLemmatizer()\n",
        "     def __call__(self, doc):\n",
        "       return [self.wnl.lemmatize(t,pos=get_wordnet_pos(t)) for t in word_tokenize(doc) if t.isalpha()]\n",
        "\n",
        "class Fr_LemmaTokenizer:\n",
        "     def __init__(self):\n",
        "       self.wnl = FrenchLefffLemmatizer()\n",
        "     def __call__(self, doc):\n",
        "       return [self.wnl.lemmatize(t,pos=get_wordnet_pos(t)) for t in word_tokenize(doc) if t.isalpha()]\n",
        "\n",
        "class New_LemmaTokenizer:\n",
        "     def __init__(self):\n",
        "       self.wnl = WordNetLemmatizer()\n",
        "     def __call__(self, doc):\n",
        "       return [self.wnl.lemmatize(t,pos =get_wordnet_pos(t)) for t in wordpunct_tokenize(doc) if t.isalpha()]"
      ],
      "metadata": {
        "id": "p0jbZaGmpsI3"
      },
      "execution_count": null,
      "outputs": []
    },
    {
      "cell_type": "markdown",
      "source": [
        "## Set Stop Words"
      ],
      "metadata": {
        "id": "8v76WDxLtlxm"
      }
    },
    {
      "cell_type": "code",
      "source": [
        "def get_wordnet_pos(word):\n",
        "    \"\"\"Map POS tag to first character lemmatize() accepts\"\"\"\n",
        "    tag = nltk.pos_tag([word])[0][1][0].upper()\n",
        "    tag_dict = {\"J\": wordnet.ADJ,\n",
        "           \"N\": wordnet.NOUN,\n",
        "           \"V\": wordnet.VERB,\n",
        "           \"R\": wordnet.ADV}\n",
        "    return tag_dict.get(tag, wordnet.NOUN) #get the value of the key:tag, if no this key, return default value:wordnet.NOUN\n",
        "\n",
        "# Create stop word list for both French and English\n",
        "stopwords_en = list(set(list(en_stop) + stopwords.words('english')))\n",
        "stopwords_fr = list(set(list(fr_stop) + stopwords.words('french')))\n",
        "\n",
        "\n",
        "# Lemmatize French and English stop word\n",
        "filtered_fr = Fr_LemmaTokenizer()\n",
        "filtered_en = WordNetLemmatizer()\n",
        "stopwords_list=[]\n",
        "for word in stopwords_en:\n",
        "  stopwords_list.append(filtered_en.lemmatize(word))\n",
        "for word in stopwords_fr:\n",
        "  stopwords_list.append(\" \".join(filtered_fr(word)))\n",
        "\n",
        "stopwords_list.extend(list(set(['was', 'people', 'like', 'https', 'www', 'city', 'need', 'want', 'know', 'time', 'place', 'think', 'years', 'going', 'good', 'has']+['pa', 'city', 'ask', 'actually', 'date', 'month', 'faire', 'http', 'www', 'people', 'like', 'time', 'year', 'need', 'know', 'thing', 'place', 'good', 'look', 'use', 'day', 'work', 'think', 'way', 'want', 'new', 'try', 'come', 'live', 'find', 'lot', 'start', 'week', 'end'])))\n",
        "\n",
        "# stopwords_list contains our stopwords"
      ],
      "metadata": {
        "id": "NSPyXZb_tkyu"
      },
      "execution_count": null,
      "outputs": []
    },
    {
      "cell_type": "markdown",
      "source": [
        "## Vectorizer"
      ],
      "metadata": {
        "id": "tdMqkYm5xRo2"
      }
    },
    {
      "cell_type": "markdown",
      "source": [
        "TF-IDF"
      ],
      "metadata": {
        "id": "ub_c5sMixmIF"
      }
    },
    {
      "cell_type": "code",
      "source": [
        "vectorizer = TfidfVectorizer(max_features=3000,lowercase=True, ngram_range=(1,1), stop_words=stopwords_list)"
      ],
      "metadata": {
        "id": "H8afjnk2xTij"
      },
      "execution_count": null,
      "outputs": []
    },
    {
      "cell_type": "markdown",
      "source": [
        "Binary"
      ],
      "metadata": {
        "id": "KcKv3HkZxo5V"
      }
    },
    {
      "cell_type": "code",
      "source": [
        "vectorizer = CountVectorizer(max_features=3000, lowercase=True, ngram_range=(1,1), stop_words=stopwords_list)"
      ],
      "metadata": {
        "id": "CUpBU2l-xsb6"
      },
      "execution_count": null,
      "outputs": []
    },
    {
      "cell_type": "markdown",
      "source": [
        "Test of Vectorization"
      ],
      "metadata": {
        "id": "lTOTRF7MyPlf"
      }
    },
    {
      "cell_type": "code",
      "source": [
        "vec_X_train = vectorizer.fit_transform(X_train)\n",
        "vec_X_test = vectorizer.transform(X_test)\n",
        "\n",
        "print(vectorizer.get_feature_names_out())\n",
        "print(len(vectorizer.get_feature_names_out()))"
      ],
      "metadata": {
        "colab": {
          "base_uri": "https://localhost:8080/"
        },
        "id": "OBZKISXuyUAF",
        "outputId": "9c4646ac-a771-4b3f-fa83-178fd5bdd16d"
      },
      "execution_count": null,
      "outputs": [
        {
          "output_type": "stream",
          "name": "stdout",
          "text": [
            "['00' '000' '02' ... 'zero' 'zone' 'ÿÿ']\n",
            "3000\n"
          ]
        }
      ]
    },
    {
      "cell_type": "markdown",
      "source": [
        "## Normalization"
      ],
      "metadata": {
        "id": "kJwY42vm1gUz"
      }
    },
    {
      "cell_type": "code",
      "source": [
        "vec_X_train = Normalizer().transform(vec_X_train)\n",
        "vec_X_test=Normalizer().transform(vec_X_test)"
      ],
      "metadata": {
        "id": "dGyNTvZn1fU5"
      },
      "execution_count": null,
      "outputs": []
    },
    {
      "cell_type": "code",
      "source": [
        "vec_X_train = vec_X_train.todense()\n",
        "vec_X_test = vec_X_test.todense()\n",
        "\n",
        "vec_X_train = np.asarray(vec_X_train)\n",
        "vec_X_test = np.asarray(vec_X_test)\n",
        "\n",
        "print(\"dimensions of vectorized X train: \" + str(vec_X_train.shape))\n",
        "print(\"dimensions of vectorized X test: \" + str(vec_X_test.shape))"
      ],
      "metadata": {
        "colab": {
          "base_uri": "https://localhost:8080/"
        },
        "id": "HULd50Qu1v7W",
        "outputId": "e91f1163-f50d-4ba7-f495-35cb5594d0f4"
      },
      "execution_count": null,
      "outputs": [
        {
          "output_type": "stream",
          "name": "stdout",
          "text": [
            "dimensions of vectorized X train: (1400, 3000)\n",
            "dimensions of vectorized X test: (600, 3000)\n"
          ]
        }
      ]
    },
    {
      "cell_type": "markdown",
      "source": [
        "## Visualization Dataset"
      ],
      "metadata": {
        "id": "6jt3foyy15AW"
      }
    },
    {
      "cell_type": "code",
      "source": [
        "# vectorizer = CountVectorizer(analyzer='word', max_features=3000, lowercase=True, ngram_range=(1,1))\n",
        "# vec_X_train = vectorizer.fit_transform(X_train)\n",
        "# features = vectorizer.get_feature_names_out()\n",
        "\n",
        "# # L2 Squared Euclidean Distance\n",
        "# tsnse = TSNEVisualizer(size = (600, 400))\n",
        "# tsnse.fit(vec_X_train, y_train)\n",
        "# tsnse.poof()"
      ],
      "metadata": {
        "colab": {
          "base_uri": "https://localhost:8080/",
          "height": 437
        },
        "id": "tiqvmGOR7hE1",
        "outputId": "26f0350a-c5bf-4bec-a52e-5501701c6e04"
      },
      "execution_count": null,
      "outputs": [
        {
          "output_type": "stream",
          "name": "stderr",
          "text": [
            "/usr/local/lib/python3.10/dist-packages/yellowbrick/text/tsne.py:401: UserWarning: *c* argument looks like a single numeric RGB or RGBA sequence, which should be avoided as value-mapping will have precedence in case its length matches with *x* & *y*.  Please use the *color* keyword-argument or provide a 2D array with a single row if you intend to specify the same RGB or RGBA value for all points.\n",
            "  self.ax.scatter(\n"
          ]
        },
        {
          "output_type": "display_data",
          "data": {
            "text/plain": [
              "<Figure size 600x400 with 1 Axes>"
            ],
            "image/png": "[encoded data removed]"
          },
          "metadata": {}
        },
        {
          "output_type": "execute_result",
          "data": {
            "text/plain": [
              "<Axes: title={'center': 'TSNE Projection of 1400 Documents'}>"
            ]
          },
          "metadata": {},
          "execution_count": 47
        }
      ]
    },
    {
      "cell_type": "markdown",
      "source": [
        "Vectorizer without Stopwords"
      ],
      "metadata": {
        "id": "YC7RpYu635zJ"
      }
    },
    {
      "cell_type": "code",
      "source": [
        "vectorizer = CountVectorizer(max_features=10000)\n",
        "vec_X_train = vectorizer.fit_transform(X_train)\n",
        "features = vectorizer.get_feature_names_out()\n",
        "\n",
        "visualizer = FreqDistVisualizer(features=features, n=20)\n",
        "visualizer.fit(vec_X_train)\n",
        "visualizer.poof()"
      ],
      "metadata": {
        "colab": {
          "base_uri": "https://localhost:8080/",
          "height": 521
        },
        "id": "sZbEkM_r3Gzi",
        "outputId": "ebb85fe6-7e53-4dad-beea-d6007dbca71f"
      },
      "execution_count": null,
      "outputs": [
        {
          "output_type": "display_data",
          "data": {
            "text/plain": [
              "<Figure size 800x550 with 1 Axes>"
            ],
            "image/png": "[encoded data removed]"
          },
          "metadata": {}
        },
        {
          "output_type": "execute_result",
          "data": {
            "text/plain": [
              "<Axes: title={'center': 'Frequency Distribution of Top 20 tokens'}>"
            ]
          },
          "metadata": {},
          "execution_count": 52
        }
      ]
    },
    {
      "cell_type": "markdown",
      "source": [
        "Vectorizer with Stopwords"
      ],
      "metadata": {
        "id": "Dn8KOU4H31GC"
      }
    },
    {
      "cell_type": "code",
      "source": [
        "vectorizer = CountVectorizer(max_features=10000, stop_words=stopwords_list)\n",
        "vec_X_train = vectorizer.fit_transform(X_train)\n",
        "features = vectorizer.get_feature_names_out()\n",
        "\n",
        "visualizer = FreqDistVisualizer(features=features, n=20)\n",
        "visualizer.fit(vec_X_train)\n",
        "visualizer.poof()"
      ],
      "metadata": {
        "colab": {
          "base_uri": "https://localhost:8080/",
          "height": 521
        },
        "id": "wpSZ9mjp3Tb2",
        "outputId": "6f055546-7b27-4331-ab06-2671ee5a3316"
      },
      "execution_count": null,
      "outputs": [
        {
          "output_type": "display_data",
          "data": {
            "text/plain": [
              "<Figure size 800x550 with 1 Axes>"
            ],
            "image/png": "[encoded data removed]"
          },
          "metadata": {}
        },
        {
          "output_type": "execute_result",
          "data": {
            "text/plain": [
              "<Axes: title={'center': 'Frequency Distribution of Top 20 tokens'}>"
            ]
          },
          "metadata": {},
          "execution_count": 55
        }
      ]
    },
    {
      "cell_type": "markdown",
      "source": [
        "# Bernoulli Naive Bayes"
      ],
      "metadata": {
        "id": "aRyleUPT87Bo"
      }
    },
    {
      "cell_type": "markdown",
      "source": [
        "Bernoulli Naive Bayes Model"
      ],
      "metadata": {
        "id": "-HUGkHLr8_-J"
      }
    },
    {
      "cell_type": "code",
      "source": [
        "class BernoulliNaiveBayes:\n",
        "  def __init__(self, alpha=0.1, prior = 'learn'):\n",
        "    self.prior_prob = 0\n",
        "    self.alpha = alpha\n",
        "    self.prior = prior\n",
        "\n",
        "  def fit(self, X, y):\n",
        "    X=X.toarray() # convert X from sparse matrix to dense matrix\n",
        "    # Compute each class probability\n",
        "    class_counts = y.value_counts()\n",
        "    num_labels = len(class_counts)\n",
        "    if self.prior == 'learn': # learn the class probability from training data\n",
        "      self.class_probabilities = class_counts / len(y)\n",
        "    elif self.prior == 'uniform': # assume its probabilites are uniform\n",
        "      self.class_probabilities = pd.Series(np.repeat(1/num_labels, num_labels), index = class_counts.index)\n",
        "\n",
        "    # Sort the order of labels\n",
        "    self.class_probabilities.sort_index(inplace = True)\n",
        "    class_counts.sort_index(inplace = True)\n",
        "\n",
        "    # train the model\n",
        "    features_count = np.empty((num_labels, X.shape[1]))\n",
        "\n",
        "    y_numpy = y.to_numpy()\n",
        "\n",
        "    # get the summation counts on each features of samples with the same label\n",
        "    for i in range(num_labels):\n",
        "      label = self.class_probabilities.index[i]\n",
        "      X_label_i = X[np.nonzero(y_numpy==label),:]\n",
        "      # print(X_label_i.shape)\n",
        "      # print(np.sum(X_label_i, axis=0).shape)\n",
        "      # print(features_count[i,:].shape)\n",
        "      features_count[i,:] = np.sum(X_label_i, axis=1) # axis = 1 because the shape of X_label_i is (1, #samples, #features)\n",
        "\n",
        "    # Laplace Smoothing\n",
        "    smoothed_numerator = features_count + self.alpha # get the summation counts on each features of samples with the same class\n",
        "    smoothed_denominator = class_counts.values.reshape(-1,1) + 2 * self.alpha # get total number of samples for each class\n",
        "    self.parameters = pd.DataFrame(smoothed_numerator /  smoothed_denominator, index = self.class_probabilities.index) # theta_{j,k}, j^th features, k^th class\n",
        "\n",
        "  def predict(self, X):\n",
        "    X = X.toarray()\n",
        "    delta = pd.DataFrame(columns=self.class_probabilities.index)\n",
        "    # computing the probability to be classified to each class given X\n",
        "    for label in self.class_probabilities.index:\n",
        "        # Get probability of currect class P(y=k)\n",
        "        class_probability = self.class_probabilities[label]\n",
        "\n",
        "        # Get theta_{j,k} for current class k\n",
        "        theta_j_class = self.parameters.loc[label, :].to_numpy()\n",
        "\n",
        "        # Compute P(x_j | y = k)\n",
        "        prob_features_given_y = (theta_j_class ** X) * (1 - theta_j_class) ** (1 - X)\n",
        "        # Compute P(x | y = k)\n",
        "        prob_sample_given_y = np.prod(prob_features_given_y, axis=1)\n",
        "\n",
        "        # Compute P(y) * P(x | y = k)\n",
        "        term1 = np.log(class_probability)\n",
        "        term2 = np.sum(X * np.log(theta_j_class), axis=1)\n",
        "        term3 = np.sum((1 - X) * np.log(1 - theta_j_class), axis=1)\n",
        "        delta_k = term1 + term2 + term3\n",
        "\n",
        "        # Append\n",
        "        delta[label] = delta_k\n",
        "\n",
        "    predicted_class = delta.idxmax(axis=1)\n",
        "\n",
        "    return predicted_class.to_list()\n",
        "\n",
        "  def score(self, X, y):\n",
        "    y_pred = self.predict(X)\n",
        "    accuracy = np.count_nonzero(y == y_pred) / len(y_pred)\n",
        "    return accuracy\n",
        "\n",
        "  def get_params(self, deep=True):\n",
        "    \"\"\"Getter for parameters\"\"\"\n",
        "\n",
        "    params = {\"alpha\": self.alpha,\n",
        "              \"prior\": self.prior}\n",
        "    return params\n",
        "\n",
        "  def set_params(self, **parameters):\n",
        "    \"Setter for parameters\"\n",
        "    for parameter, value in parameters.items():\n",
        "        setattr(self, parameter, value)\n",
        "    return self"
      ],
      "metadata": {
        "id": "2QOB6094894l"
      },
      "execution_count": null,
      "outputs": []
    },
    {
      "cell_type": "markdown",
      "source": [
        "GridSearch Cross Validation for the Best Hyperparameters\n",
        "\n"
      ],
      "metadata": {
        "id": "Ca1PjYFIBa4W"
      }
    },
    {
      "cell_type": "code",
      "source": [
        "# pipe_params = {\n",
        "#     \"vect__stop_words\": [None, list(text.ENGLISH_STOP_WORDS)],\n",
        "#     \"vect__max_features\": [3000, 9000, 10000],\n",
        "#     \"vect__ngram_range\": [(1,1), (1,2), (1,3)],\n",
        "#     # \"selecter__k\":[3000, 7000, 'all'],\n",
        "#     \"classify__alpha\" : [0.001, 0.01, 0.1, 1],\n",
        "#     # \"classify__prior\" : [\"learn\", \"uniform\"],\n",
        "# }\n",
        "\n",
        "pipe_params = {\n",
        "    \"vect\": [CountVectorizer(analyzer='word', lowercase=True), TfidfVectorizer(analyzer='word', lowercase=True)],\n",
        "    \"vect__binary\": [True, False],\n",
        "    \"vect__stop_words\": [None, stopwords_list],\n",
        "    \"vect__max_features\": [3000, 6000, 10000],\n",
        "    \"vect__ngram_range\": [(1,1),(1,2),(1,3)],\n",
        "    \"classify__alpha\" : [0.001,0.01,0.1,1],\n",
        "}\n",
        "\n",
        "\n",
        "# vectorizer = CountVectorizer(lowercase=True)\n",
        "# vectorizer = TfidfVectorizer(lowercase=True)\n",
        "normalizer = Normalizer()\n",
        "naive_bayes_model = BernoulliNaiveBayes()\n",
        "\n",
        "pipe = Pipeline(\n",
        "    steps=[(\"vect\", CountVectorizer(analyzer='word', lowercase=True)), (\"norm\", normalizer), (\"classify\", BernoulliNaiveBayes())]\n",
        ")\n",
        "\n",
        "grid = model_selection.GridSearchCV(pipe, pipe_params, verbose=1, n_jobs=-1, cv=10)\n",
        "\n",
        "grid.fit(X_train, y_train)\n",
        "\n",
        "print(f\"The best accuracy is {grid.best_score_}.\")\n",
        "print(f\"The winning parameters are {grid.best_params_}\")\n",
        "\n",
        "# grid.score(X_train,y_train)"
      ],
      "metadata": {
        "colab": {
          "base_uri": "https://localhost:8080/"
        },
        "id": "ootPgebmaZjm",
        "outputId": "97a594a7-372e-437e-e13b-91c4bb69697c"
      },
      "execution_count": null,
      "outputs": [
        {
          "output_type": "stream",
          "name": "stdout",
          "text": [
            "Fitting 10 folds for each of 288 candidates, totalling 2880 fits\n",
            "The best accuracy is 0.68.\n",
            "The winning parameters are {'classify__alpha': 0.01, 'vect': CountVectorizer(max_features=10000, ngram_range=(1, 3),\n",
            "                stop_words=['sometime', '‘ve', 'get', 'don', 'rather',\n",
            "                            'perhaps', 'same', 'and', 'most', \"'m\", 'name',\n",
            "                            'beside', 'from', 'done', 'it', 'isn', 'anything',\n",
            "                            'afterwards', 'two', 'everything', 'n’t', \"hadn't\",\n",
            "                            'full', 'themselves', 'thence', 'nevertheless',\n",
            "                            'out', 'into', 'whether', 'anywhere', ...]), 'vect__binary': False, 'vect__max_features': 10000, 'vect__ngram_range': (1, 3), 'vect__stop_words': ['sometime', '‘ve', 'get', 'don', 'rather', 'perhaps', 'same', 'and', 'most', \"'m\", 'name', 'beside', 'from', 'done', 'it', 'isn', 'anything', 'afterwards', 'two', 'everything', 'n’t', \"hadn't\", 'full', 'themselves', 'thence', 'nevertheless', 'out', 'into', 'whether', 'anywhere', 'make', \"'ve\", 'above', 'we', 'wouldn', 'then', 'put', \"couldn't\", '‘re', 'would', 'do', 'sixty', 'a', 'serious', 'will', 'a', 'thus', '‘s', 'didn', 'one', \"aren't\", 'seems', '‘ll', 'he', '‘m', 'never', 'latter', 'hereafter', 'also', 'how', 'using', 'ha', 'my', 'although', 'whereby', 'without', 'that', 'amount', 'myself', 'm', 'hereupon', 'toward', 'twelve', 'u', 'you', 'having', 'four', \"it's\", 'on', \"won't\", 'nothing', 'won', 'beforehand', 'alone', 'moreover', 'are', 'no', 'give', 'doing', 'however', 'become', 'by', 'hadn', 'hereby', 'unless', 'with', 'call', \"n't\", 'very', 'became', 'than', 'mightn', 'used', 'somehow', 'just', \"'d\", 'fifteen', 'am', 'bottom', 'y', 'something', 'should', \"needn't\", 'formerly', 'whereafter', 'before', 'everywhere', 'third', 'few', 'have', \"haven't\", 'these', 'hence', 'hers', 'behind', 'n‘t', 'five', 'becomes', 'weren', 'if', 'still', \"mightn't\", 'had', \"shouldn't\", 'part', \"you've\", '‘d', 'every', 'haven', 'only', 'somewhere', 'except', 'me', 'both', 'own', 'ma', 'when', 'himself', 'couldn', 'much', 'up', \"that'll\", 'be', 'beyond', 'too', 'an', 'so', 'him', 'between', 'doesn', 'her', 'all', 'say', 'the', 'o', 'them', 'keep', 'namely', \"mustn't\", 'front', 'shouldn', 'doe', \"wasn't\", 'again', 'often', 'why', 'under', 'well', 'off', \"'s\", \"you're\", 'ain', \"hasn't\", 'various', 'within', 'others', 'but', 'mostly', 'always', 'fifty', 'first', 'it', 'below', 'such', 'latterly', 'former', 'back', 'this', 'those', 'she', 's', 'therein', 'side', 'sometimes', 'becoming', 'were', 'against', 'might', 'indeed', 'else', 'empty', 'least', 'thru', 'ourselves', 'noone', 'last', 'must', 'nor', 'really', 'our', 'amongst', 'move', 'eleven', 'hundred', 'along', \"isn't\", 'everyone', 'whither', 'whenever', 'to', 'many', 'ten', 'three', 'each', 'quite', 'wa', 'around', 'anyway', 'further', 'who', 'seem', 'ours', 'their', \"shan't\", 'whom', 'either', 'whatever', 'wherever', 'needn', 'here', \"'re\", 'go', \"wouldn't\", 'regarding', 'over', 'thereupon', 'about', 'while', 'whoever', 'per', 'now', 'i', 'twenty', 'whereupon', 'elsewhere', 'other', 'mine', 'see', '’d', 'd', 'at', '’re', 'which', 'mustn', 'throughout', 'yet', 'cannot', 'meanwhile', 'already', 'aren', 'among', 'is', 'hasn', 'because', 'le', 'nowhere', 'not', 'until', 'anyone', 'yourself', 'once', 'ca', 'therefore', 'could', 'since', 'seemed', 'next', 'wherein', 'nine', 'where', \"weren't\", \"'ll\", 'another', \"you'll\", \"doesn't\", '’m', \"didn't\", 'nobody', 'whence', 'take', 'forty', 'top', 'herein', 'even', 'someone', 'more', '’s', 'did', 'or', 'yours', '’ll', 't', 'upon', 'please', 've', 'what', 'his', 'whose', 'seeming', 'some', 'your', \"she's\", 'll', 'may', 'enough', 'made', 'show', 'though', \"don't\", 'six', 'itself', 'otherwise', 'almost', 'through', 'anyhow', 'wasn', 'theirs', 'yourselves', 'via', 'besides', 'whereas', 'thereafter', 'they', 'across', 'towards', 'ever', 'none', 'been', '’ve', 'after', \"you'd\", 'down', 'due', 'in', 'whole', 'for', 'onto', 'there', 'together', \"should've\", 'being', 'neither', 'can', 'shan', 'any', 'during', 're', 'eight', 'herself', 'of', 'several', 'thereby', 'soi', 'sait', 'tenant', 'différent', 'eûmes', 'malgre', 'aurions', 'toi', 'miennes', 'sent', 'ah', 'auraient', 't', 'quatorze', 'eussiez', 'première', 'vôtre', 'doivent', 'excepté', 'seras', '', 'rend', 'compris', 'à', 'ça', 'aurez', 'était', 'â', 'ayants', 'etaient', 'n', 'dit', 'entre', 'l', 'semblent', 'avez', 'devers', 'vous', 'qui', 'que', 'tout', 'toujours', 'par', 'dehors', 'surtout', 'qu', 'desquelles', 'aurais', 'j', 'ayante', 'quelle', 'vais', 'certain', '', 'quoi', 'gens', 'a', 'quarante', 'nous', 'dans', 'plusieurs', 'as', 'mien', 'siennes', 'septième', 'té', '', 'étai', 'une', 'c', '', 'allons', 'laquelle', 'nombreux', 'mille', 'se', '', 'chacun', '', 'tres', '', 'memes', 'faisant', 'où', 'meme', 'puisque', 'sans', 'précisement', 'nôtre', 'différentes', 'serait', 'diverse', 'differents', 'sienne', 't', 'directe', 'parler', 'suivant', 'sa', 'neuvième', 'mes', 'tien', 'autre', 'tend', 'chacune', 'encore', 'autres', 'puis', 'm', 'autrement', 'quelles', 'retour', 'proche', 'avaient', '', 'derriere', 'certaine', 'deuxièmement', 'étante', 'nouveau', 'eusse', 'desquels', 'parle', 'aussi', 'debout', 'ha', 'vé', 'duquel', '', 'environ', 'prealable', '', 'ci', 'dès', 'les', 'soixante', 'déjà', 'on', 'avoir', 'étantes', 'depuis', 'differentes', 'furent', 'fûmes', 'm', 'envers', 'antérieure', 'suivre', 'cette', 'tel', 'sous', 'laisser', 'etant', 'combien', 'hors', 'ceux', 'semble', 'auriez', 'tels', 'quiconque', 'fais', 'aviez', 'douzième', 'lui', 'auxquels', 'êtes', 'du', 'd', 'sauf', 'dessus', 'auquel', 'basee', 'toute', 'y', 'na', 'serais', 'eues', 'aux', 'douze', 'spécifique', 'avant', 'houp', 'je', 'font', 'ait', 'été', 'dixième', 'lesquelles', 'qu', 'seule', 'ouvert', '', 'avec', 'celle', 'seriez', 'ton', 'troisième', 'désormais', 'car', 'aurai', 'cinquante', 'ouias', '', 'notre', 'spécifiques', 'un', 'ouvert', 'facon', 'certes', 'te', 'me', 'da', 'ayantes', 'soyez', 'eûtes', 'suit', 'j', 'suffit', 'cent', 'ma', 'vingt', 'c', 'anterieure', 'tout', 'ouverte', 'tente', 'tu', 'vos', 's', 'quoique', 'telle', '', 'l', 'voici', 'eurent', 'eusses', 'ni', 'certain', 'tes', 'suivant', 'cinquantaine', '', '', 'dix', '', '', 'hou', 'afin', '', 'aient', 'elle', 'quels', 'importe', 'premièrement', 'vont', 'auxquelles', 'nos', 'avion', 'ou', 'possibles', '', 'sur', 'o', 'tiennes', 'serions', 'etait', 'ayez', 'semblaient', 'cinquantième', 'va', 'pourrais', 'pres', 'été', '', 'touchant', 'également', 'souvent', 'différent', 'dit', 'qu', 'serez', 'hep', 'onze', 'relative', 'parfois', 'fait', 'rendre', 'anterieures', 'ses', 'ayons', 'neanmoins', 'eut', 'donc', 'etais', 'serai', '', 'suffisante', 'dejà', 'directement', 'somme', 'lorsque', 'antérieures', 'm', 'son', 'près', 'maint', 'leurs', 'devra', 'votres', 'nul', 'comment', 'divers', 'pendant', 'lequel', 's', 'voila', 'hi', 'quatre', 'quel', 'il', 'merci', 'sien', 'attendu', 'peux', 'eh', 'enfin', 'revoila', 'ils', 'specifique', '', 'exactement', 'onzième', 'desormais', 'parlent', 'nombreuses', 'etre', 'sera', 'est', 'differente', 'avons', 'deux', 'ouste', 'possible', 'très', 'différente', 'pour', 'soi', 'procedant', 'la', 'malgré', 'quelque', 'alors', '', 'seules', 'hem', 'seraient', 'stop', 'tant', 'sinon', 'fus', 'ô', 'étant', 'allaient', 'eu', '', 'mien', 'personne', '', 'votre', 'cependant', 'moindres', 'trois', 'notamment', 'serons', 'voilà', 'peuvent', 'plutôt', 'devant', 'j', 'étaient', 'ès', 'étant', 'vas', 'comme', 'restent', '', 'préalable', 'avais', 'hé', 'leur', 'treize', 's', 'eussions', 'des', 'longtemps', 'fut', 'parce', 'c', 'fusses', 'après', 'egalement', 'i', 'suivant', '', 'elles', 'huitième', 'ce', 'eue', 'bas', 'tenir', 'hue', 'quelques', 'mon', 'fussions', 'deuxième', 'pu', 'n', 'd', 'ho', 'es', 'sont', 'en', 'quelconque', 'aies', 'façon', 'premier', 'mienne', 'plus', 'moins', 'precisement', '', 'mai', 'seize', 'soient', 'aie', 'derrière', 'aurons', 'troisièmement', 'lès', 'aura', 'au', 'dessous', 'jusqu', 'là', 'et', 'telles', 'seuls', 'apres', 'dont', 'celles', 'pas', 'soyons', 'pense', 'revoici', 'selon', 'juste', 'outre', 'tienne', 'l', '', 'néanmoins', 'peut', 'antérieur', 'seront', 'seulement', 'tien', 'effet', 'fûtes', 'specifiques', 'vu', 'semblable', 'ai', 'delà', 'dire', 'faisaient', 'durant', 'reste', 'suffisant', 'toutes', 'avait', 'même', '', 'or', 'deja', 't', 'peu', '', 'trente', 'sixième', 'n', 'relativement', 'lesquels', 'le', 'pourquoi', 'chaque', 'étée', 'maintenant', 'ces', 'cet', 'hormis', 'plutot', 'quatrièmement', 'auront', 'fussent', 'bat', 'suis', 'doit', 'six', 'cinquième', 'hui', 'certaines', 'cela', 'ayant', 'abord', 'eût', 'quand', 'déja', 'concernant', 'étions', 'permet', 'fusse', 'sien', 'jusque', 'restant', 'aurait', 'eussent', 'ceci', 'quant', 'huit', 'ta', 'cinq', 'via', 'different', '', 'revoilà', 'soit', 'dite', 'fussiez', 'ont', 'eus', 'tellement', 'vôtre', 'fût', 'feront', 'étiez', 'nôtre', 'étées', 'eux', 'celui', 'quatrième', 'pouvait', 'parmi', 'dedans', 'suivant', 'chez', 'anterieur', 'ne', 'partant', 'autrui', 'aupres', 'd', 'même', 'un', 'diverses', 'une', 'aura', 'sept', 'ainsi', 'ver', 'moi', 'être', 'lors', 'seul', 'etc', 'de', 'si', 'quinze', 'assez', 'pourrait', 'actually', 'find', 'week', 'know', 'live', 'was', 'need', 'way', 'start', 'day', 'www', 'like', 'month', 'good', 'new', 'years', 'http', 'try', 'thing', 'pa', 'look', 'people', 'https', 'date', 'going', 'year', 'city', 'place', 'think', 'has', 'work', 'time', 'use', 'lot', 'come', 'want', 'ask', 'faire', 'end']}\n"
          ]
        }
      ]
    },
    {
      "cell_type": "markdown",
      "source": [
        "Kaggle Test"
      ],
      "metadata": {
        "id": "L7BkW6kZorRV"
      }
    },
    {
      "cell_type": "code",
      "source": [
        "# vectorizer = CountVectorizer(max_features=3000, stop_words=list(text.ENGLISH_STOP_WORDS), ngram_range=(1,1))\n",
        "# vec_X_train = vectorizer.fit_transform(X_train)\n",
        "# vec_X_test = vectorizer.transform(X_test)\n",
        "\n",
        "# vec_X_train = Normalizer().transform(vec_X_train)\n",
        "# vec_X_test = Normalizer().transform(vec_X_test)\n",
        "\n",
        "# # print(vectorizer.get_feature_names_out())\n",
        "# # print(len(vectorizer.get_feature_names_out()))\n",
        "# model = BernoulliNaiveBayes()\n",
        "# model.fit(vec_X_train, y_train)\n",
        "# prediction = model.score(vec_X_train, y_train)\n",
        "# print(prediction)\n",
        "\n",
        "# prediction = model.predict(vec_X_test)\n",
        "# print(prediction)\n",
        "# id_data = list(range(len(prediction)))\n",
        "# output = pd.DataFrame({'id':id_data, 'subreddit':prediction})\n",
        "# output.to_csv('/content/drive/MyDrive/Colab Notebooks/ECSE551 Machine Learning for Engineers/project2/test_prediction/test_prediction_BNB_20240313.csv',index=False)"
      ],
      "metadata": {
        "id": "jAVjjt_IdBZi"
      },
      "execution_count": null,
      "outputs": []
    },
    {
      "cell_type": "markdown",
      "source": [
        "# Support Vector Machine"
      ],
      "metadata": {
        "id": "TDPgHyiylq11"
      }
    },
    {
      "cell_type": "markdown",
      "source": [
        "GridSearch Cross Validation for the Best Hyperparameters"
      ],
      "metadata": {
        "id": "pH9k_mXoHF3p"
      }
    },
    {
      "cell_type": "code",
      "source": [
        "pipe_params = {\n",
        "    \"vect\": [CountVectorizer(analyzer='word', lowercase=True), TfidfVectorizer(analyzer='word', lowercase=True)],\n",
        "    \"vect__binary\": [True, False],\n",
        "    \"vect__stop_words\": [None, stopwords_list],\n",
        "    \"vect__max_features\": [3000, 6000, 10000],\n",
        "    \"vect__ngram_range\": [(1,1),(1,2),(1,3)],\n",
        "    # \"classify__C\" : np.logspace(0, 2, 4)\n",
        "    \"classify__C\" : [0.01, 0.1, 1, 10, 100],\n",
        "}\n",
        "\n",
        "\n",
        "normalizer = Normalizer()\n",
        "svm_model = LinearSVC()\n",
        "\n",
        "pipe = Pipeline(\n",
        "    steps = [\n",
        "        (\"vect\", CountVectorizer(analyzer='word', lowercase=True)),\n",
        "        (\"normalizer\", Normalizer()),\n",
        "        (\"classify\", svm_model),\n",
        "         ]\n",
        ")\n",
        "\n",
        "grid = model_selection.GridSearchCV(pipe, pipe_params, verbose=1, n_jobs=-1, cv=10)\n",
        "\n",
        "grid.fit(X_train, y_train)\n",
        "\n",
        "print(f\"The best accuracy is {grid.best_score_}.\")\n",
        "print(f\"The winning parameters are {grid.best_params_}\")"
      ],
      "metadata": {
        "colab": {
          "base_uri": "https://localhost:8080/"
        },
        "id": "PduiHNyxlxBs",
        "outputId": "8b130646-2808-4356-90d9-51b698c670ca"
      },
      "execution_count": null,
      "outputs": [
        {
          "output_type": "stream",
          "name": "stdout",
          "text": [
            "Fitting 10 folds for each of 360 candidates, totalling 3600 fits\n",
            "The best accuracy is 0.7328571428571429.\n",
            "The winning parameters are {'classify__C': 1, 'vect': TfidfVectorizer(max_features=10000,\n",
            "                stop_words=['sometime', '‘ve', 'get', 'don', 'rather',\n",
            "                            'perhaps', 'same', 'and', 'most', \"'m\", 'name',\n",
            "                            'beside', 'from', 'done', 'it', 'isn', 'anything',\n",
            "                            'afterwards', 'two', 'everything', 'n’t', \"hadn't\",\n",
            "                            'full', 'themselves', 'thence', 'nevertheless',\n",
            "                            'out', 'into', 'whether', 'anywhere', ...]), 'vect__binary': False, 'vect__max_features': 10000, 'vect__ngram_range': (1, 1), 'vect__stop_words': ['sometime', '‘ve', 'get', 'don', 'rather', 'perhaps', 'same', 'and', 'most', \"'m\", 'name', 'beside', 'from', 'done', 'it', 'isn', 'anything', 'afterwards', 'two', 'everything', 'n’t', \"hadn't\", 'full', 'themselves', 'thence', 'nevertheless', 'out', 'into', 'whether', 'anywhere', 'make', \"'ve\", 'above', 'we', 'wouldn', 'then', 'put', \"couldn't\", '‘re', 'would', 'do', 'sixty', 'a', 'serious', 'will', 'a', 'thus', '‘s', 'didn', 'one', \"aren't\", 'seems', '‘ll', 'he', '‘m', 'never', 'latter', 'hereafter', 'also', 'how', 'using', 'ha', 'my', 'although', 'whereby', 'without', 'that', 'amount', 'myself', 'm', 'hereupon', 'toward', 'twelve', 'u', 'you', 'having', 'four', \"it's\", 'on', \"won't\", 'nothing', 'won', 'beforehand', 'alone', 'moreover', 'are', 'no', 'give', 'doing', 'however', 'become', 'by', 'hadn', 'hereby', 'unless', 'with', 'call', \"n't\", 'very', 'became', 'than', 'mightn', 'used', 'somehow', 'just', \"'d\", 'fifteen', 'am', 'bottom', 'y', 'something', 'should', \"needn't\", 'formerly', 'whereafter', 'before', 'everywhere', 'third', 'few', 'have', \"haven't\", 'these', 'hence', 'hers', 'behind', 'n‘t', 'five', 'becomes', 'weren', 'if', 'still', \"mightn't\", 'had', \"shouldn't\", 'part', \"you've\", '‘d', 'every', 'haven', 'only', 'somewhere', 'except', 'me', 'both', 'own', 'ma', 'when', 'himself', 'couldn', 'much', 'up', \"that'll\", 'be', 'beyond', 'too', 'an', 'so', 'him', 'between', 'doesn', 'her', 'all', 'say', 'the', 'o', 'them', 'keep', 'namely', \"mustn't\", 'front', 'shouldn', 'doe', \"wasn't\", 'again', 'often', 'why', 'under', 'well', 'off', \"'s\", \"you're\", 'ain', \"hasn't\", 'various', 'within', 'others', 'but', 'mostly', 'always', 'fifty', 'first', 'it', 'below', 'such', 'latterly', 'former', 'back', 'this', 'those', 'she', 's', 'therein', 'side', 'sometimes', 'becoming', 'were', 'against', 'might', 'indeed', 'else', 'empty', 'least', 'thru', 'ourselves', 'noone', 'last', 'must', 'nor', 'really', 'our', 'amongst', 'move', 'eleven', 'hundred', 'along', \"isn't\", 'everyone', 'whither', 'whenever', 'to', 'many', 'ten', 'three', 'each', 'quite', 'wa', 'around', 'anyway', 'further', 'who', 'seem', 'ours', 'their', \"shan't\", 'whom', 'either', 'whatever', 'wherever', 'needn', 'here', \"'re\", 'go', \"wouldn't\", 'regarding', 'over', 'thereupon', 'about', 'while', 'whoever', 'per', 'now', 'i', 'twenty', 'whereupon', 'elsewhere', 'other', 'mine', 'see', '’d', 'd', 'at', '’re', 'which', 'mustn', 'throughout', 'yet', 'cannot', 'meanwhile', 'already', 'aren', 'among', 'is', 'hasn', 'because', 'le', 'nowhere', 'not', 'until', 'anyone', 'yourself', 'once', 'ca', 'therefore', 'could', 'since', 'seemed', 'next', 'wherein', 'nine', 'where', \"weren't\", \"'ll\", 'another', \"you'll\", \"doesn't\", '’m', \"didn't\", 'nobody', 'whence', 'take', 'forty', 'top', 'herein', 'even', 'someone', 'more', '’s', 'did', 'or', 'yours', '’ll', 't', 'upon', 'please', 've', 'what', 'his', 'whose', 'seeming', 'some', 'your', \"she's\", 'll', 'may', 'enough', 'made', 'show', 'though', \"don't\", 'six', 'itself', 'otherwise', 'almost', 'through', 'anyhow', 'wasn', 'theirs', 'yourselves', 'via', 'besides', 'whereas', 'thereafter', 'they', 'across', 'towards', 'ever', 'none', 'been', '’ve', 'after', \"you'd\", 'down', 'due', 'in', 'whole', 'for', 'onto', 'there', 'together', \"should've\", 'being', 'neither', 'can', 'shan', 'any', 'during', 're', 'eight', 'herself', 'of', 'several', 'thereby', 'soi', 'sait', 'tenant', 'différent', 'eûmes', 'malgre', 'aurions', 'toi', 'miennes', 'sent', 'ah', 'auraient', 't', 'quatorze', 'eussiez', 'première', 'vôtre', 'doivent', 'excepté', 'seras', '', 'rend', 'compris', 'à', 'ça', 'aurez', 'était', 'â', 'ayants', 'etaient', 'n', 'dit', 'entre', 'l', 'semblent', 'avez', 'devers', 'vous', 'qui', 'que', 'tout', 'toujours', 'par', 'dehors', 'surtout', 'qu', 'desquelles', 'aurais', 'j', 'ayante', 'quelle', 'vais', 'certain', '', 'quoi', 'gens', 'a', 'quarante', 'nous', 'dans', 'plusieurs', 'as', 'mien', 'siennes', 'septième', 'té', '', 'étai', 'une', 'c', '', 'allons', 'laquelle', 'nombreux', 'mille', 'se', '', 'chacun', '', 'tres', '', 'memes', 'faisant', 'où', 'meme', 'puisque', 'sans', 'précisement', 'nôtre', 'différentes', 'serait', 'diverse', 'differents', 'sienne', 't', 'directe', 'parler', 'suivant', 'sa', 'neuvième', 'mes', 'tien', 'autre', 'tend', 'chacune', 'encore', 'autres', 'puis', 'm', 'autrement', 'quelles', 'retour', 'proche', 'avaient', '', 'derriere', 'certaine', 'deuxièmement', 'étante', 'nouveau', 'eusse', 'desquels', 'parle', 'aussi', 'debout', 'ha', 'vé', 'duquel', '', 'environ', 'prealable', '', 'ci', 'dès', 'les', 'soixante', 'déjà', 'on', 'avoir', 'étantes', 'depuis', 'differentes', 'furent', 'fûmes', 'm', 'envers', 'antérieure', 'suivre', 'cette', 'tel', 'sous', 'laisser', 'etant', 'combien', 'hors', 'ceux', 'semble', 'auriez', 'tels', 'quiconque', 'fais', 'aviez', 'douzième', 'lui', 'auxquels', 'êtes', 'du', 'd', 'sauf', 'dessus', 'auquel', 'basee', 'toute', 'y', 'na', 'serais', 'eues', 'aux', 'douze', 'spécifique', 'avant', 'houp', 'je', 'font', 'ait', 'été', 'dixième', 'lesquelles', 'qu', 'seule', 'ouvert', '', 'avec', 'celle', 'seriez', 'ton', 'troisième', 'désormais', 'car', 'aurai', 'cinquante', 'ouias', '', 'notre', 'spécifiques', 'un', 'ouvert', 'facon', 'certes', 'te', 'me', 'da', 'ayantes', 'soyez', 'eûtes', 'suit', 'j', 'suffit', 'cent', 'ma', 'vingt', 'c', 'anterieure', 'tout', 'ouverte', 'tente', 'tu', 'vos', 's', 'quoique', 'telle', '', 'l', 'voici', 'eurent', 'eusses', 'ni', 'certain', 'tes', 'suivant', 'cinquantaine', '', '', 'dix', '', '', 'hou', 'afin', '', 'aient', 'elle', 'quels', 'importe', 'premièrement', 'vont', 'auxquelles', 'nos', 'avion', 'ou', 'possibles', '', 'sur', 'o', 'tiennes', 'serions', 'etait', 'ayez', 'semblaient', 'cinquantième', 'va', 'pourrais', 'pres', 'été', '', 'touchant', 'également', 'souvent', 'différent', 'dit', 'qu', 'serez', 'hep', 'onze', 'relative', 'parfois', 'fait', 'rendre', 'anterieures', 'ses', 'ayons', 'neanmoins', 'eut', 'donc', 'etais', 'serai', '', 'suffisante', 'dejà', 'directement', 'somme', 'lorsque', 'antérieures', 'm', 'son', 'près', 'maint', 'leurs', 'devra', 'votres', 'nul', 'comment', 'divers', 'pendant', 'lequel', 's', 'voila', 'hi', 'quatre', 'quel', 'il', 'merci', 'sien', 'attendu', 'peux', 'eh', 'enfin', 'revoila', 'ils', 'specifique', '', 'exactement', 'onzième', 'desormais', 'parlent', 'nombreuses', 'etre', 'sera', 'est', 'differente', 'avons', 'deux', 'ouste', 'possible', 'très', 'différente', 'pour', 'soi', 'procedant', 'la', 'malgré', 'quelque', 'alors', '', 'seules', 'hem', 'seraient', 'stop', 'tant', 'sinon', 'fus', 'ô', 'étant', 'allaient', 'eu', '', 'mien', 'personne', '', 'votre', 'cependant', 'moindres', 'trois', 'notamment', 'serons', 'voilà', 'peuvent', 'plutôt', 'devant', 'j', 'étaient', 'ès', 'étant', 'vas', 'comme', 'restent', '', 'préalable', 'avais', 'hé', 'leur', 'treize', 's', 'eussions', 'des', 'longtemps', 'fut', 'parce', 'c', 'fusses', 'après', 'egalement', 'i', 'suivant', '', 'elles', 'huitième', 'ce', 'eue', 'bas', 'tenir', 'hue', 'quelques', 'mon', 'fussions', 'deuxième', 'pu', 'n', 'd', 'ho', 'es', 'sont', 'en', 'quelconque', 'aies', 'façon', 'premier', 'mienne', 'plus', 'moins', 'precisement', '', 'mai', 'seize', 'soient', 'aie', 'derrière', 'aurons', 'troisièmement', 'lès', 'aura', 'au', 'dessous', 'jusqu', 'là', 'et', 'telles', 'seuls', 'apres', 'dont', 'celles', 'pas', 'soyons', 'pense', 'revoici', 'selon', 'juste', 'outre', 'tienne', 'l', '', 'néanmoins', 'peut', 'antérieur', 'seront', 'seulement', 'tien', 'effet', 'fûtes', 'specifiques', 'vu', 'semblable', 'ai', 'delà', 'dire', 'faisaient', 'durant', 'reste', 'suffisant', 'toutes', 'avait', 'même', '', 'or', 'deja', 't', 'peu', '', 'trente', 'sixième', 'n', 'relativement', 'lesquels', 'le', 'pourquoi', 'chaque', 'étée', 'maintenant', 'ces', 'cet', 'hormis', 'plutot', 'quatrièmement', 'auront', 'fussent', 'bat', 'suis', 'doit', 'six', 'cinquième', 'hui', 'certaines', 'cela', 'ayant', 'abord', 'eût', 'quand', 'déja', 'concernant', 'étions', 'permet', 'fusse', 'sien', 'jusque', 'restant', 'aurait', 'eussent', 'ceci', 'quant', 'huit', 'ta', 'cinq', 'via', 'different', '', 'revoilà', 'soit', 'dite', 'fussiez', 'ont', 'eus', 'tellement', 'vôtre', 'fût', 'feront', 'étiez', 'nôtre', 'étées', 'eux', 'celui', 'quatrième', 'pouvait', 'parmi', 'dedans', 'suivant', 'chez', 'anterieur', 'ne', 'partant', 'autrui', 'aupres', 'd', 'même', 'un', 'diverses', 'une', 'aura', 'sept', 'ainsi', 'ver', 'moi', 'être', 'lors', 'seul', 'etc', 'de', 'si', 'quinze', 'assez', 'pourrait', 'actually', 'find', 'week', 'know', 'live', 'was', 'need', 'way', 'start', 'day', 'www', 'like', 'month', 'good', 'new', 'years', 'http', 'try', 'thing', 'pa', 'look', 'people', 'https', 'date', 'going', 'year', 'city', 'place', 'think', 'has', 'work', 'time', 'use', 'lot', 'come', 'want', 'ask', 'faire', 'end']}\n"
          ]
        }
      ]
    },
    {
      "cell_type": "markdown",
      "source": [
        "Kaggle Test"
      ],
      "metadata": {
        "id": "nEHloCPktRO0"
      }
    },
    {
      "cell_type": "code",
      "source": [
        "pipe_params = {\n",
        "    \"vectorizer__stop_words\": [stopwords_list],\n",
        "    \"vectorizer__max_features\": [10000],\n",
        "    \"vectorizer__ngram_range\": [(1,1)],\n",
        "    \"classify__C\" : [0.6]\n",
        "}\n",
        "\n",
        "vectorizer = TfidfVectorizer(analyzer='word', lowercase=True, binary=False)\n",
        "normalizer = Normalizer()\n",
        "svm_model = LinearSVC()\n",
        "\n",
        "pipe = Pipeline(\n",
        "    steps = [\n",
        "        (\"vectorizer\", vectorizer),\n",
        "        (\"normalizer\", Normalizer()),\n",
        "        (\"classify\", svm_model),\n",
        "    ]\n",
        ")\n",
        "\n",
        "grid = model_selection.GridSearchCV(pipe, pipe_params, verbose=1, n_jobs=-1, cv=10, refit=True)\n",
        "\n",
        "grid.fit(X_train, y_train)\n",
        "\n",
        "print(f\"The best accuracy is {grid.best_score_}.\")\n",
        "print(f\"The winning parameters are {grid.best_params_}\")\n",
        "y_test_LinearSVM = grid.predict(X_test)\n",
        "\n",
        "\n",
        "id_data = list(range(len(y_test_LinearSVM)))\n",
        "output = pd.DataFrame({'id':id_data, 'subreddit':y_test_LinearSVM})\n",
        "output.to_csv('/content/drive/MyDrive/Colab Notebooks/ECSE551 Machine Learning for Engineers/project2/test_prediction/test_prediction_LinearSVC_20240319.csv',index=False)"
      ],
      "metadata": {
        "id": "dl5ymadeuiCo",
        "colab": {
          "base_uri": "https://localhost:8080/"
        },
        "outputId": "9abaebe2-5018-49f0-c40c-086349732a5e"
      },
      "execution_count": null,
      "outputs": [
        {
          "output_type": "stream",
          "name": "stdout",
          "text": [
            "Fitting 10 folds for each of 1 candidates, totalling 10 fits\n",
            "The best accuracy is 0.7342857142857142.\n",
            "The winning parameters are {'classify__C': 0.6, 'vectorizer__max_features': 10000, 'vectorizer__ngram_range': (1, 1), 'vectorizer__stop_words': ['of', 'various', 'however', 'fifteen', '‘s', 'same', 'anywhere', 'namely', 'both', 'seemed', 'now', 'take', 'anyone', 'several', 'beyond', 'well', 'among', 'where', 'eight', 'above', 'hers', 'rather', 'back', '‘ll', 'he', 'if', 'regarding', 'although', 'weren', 'will', 'make', 'themselves', 'beside', 'any', 'wouldn', 'sometime', 'thus', 'a', 'during', 'too', 'or', 'hasn', 'whoever', 'these', 'over', 'whence', 'before', 'isn', 'sometimes', 'by', 'after', 'ever', 'nor', 'into', 'her', 'haven', 'wa', 'ca', 'an', 'at', 'whenever', 'could', 'until', 'very', 'whereafter', 'anyhow', \"aren't\", 'enough', 'unless', 'some', '’s', 'needn', 'no', 'others', 'yourselves', 'am', 'via', '‘re', 'be', \"couldn't\", 'do', 'became', 'whither', 'top', 'whereas', 'whatever', 'next', 'were', 'without', 'yours', 'is', 'whose', 'eleven', \"it's\", 'here', 'besides', 'quite', \"n't\", 'front', 'this', 're', \"'ll\", 'are', 'nothing', 'move', 'already', 'nevertheless', 'yourself', 'whereby', 'still', 'wasn', 'latterly', 'two', 'give', 'd', 'me', 'nine', \"you'll\", 'can', 'serious', \"'m\", 't', 'say', 'meanwhile', 'when', 'since', 'such', \"wasn't\", 'theirs', 'afterwards', 'one', 'almost', \"mightn't\", 'full', 'below', \"shouldn't\", 'his', 'our', 'perhaps', 'sixty', 'mightn', 'couldn', 'she', 'thence', 'even', 'which', '’ve', 'wherever', 'o', 'each', '‘ve', 'somewhere', 'third', 'many', 'onto', 'go', 'i', \"wouldn't\", 'wherein', 'only', 'those', \"she's\", 'seeming', 'don', 'hadn', 'have', 'never', 'mustn', 'doesn', 'put', 'had', 'why', 'hereupon', 'see', 'amount', 'because', 'through', 'noone', 'show', 'forty', 'from', 'hence', 'himself', 'somehow', 'few', 'three', \"hasn't\", 'between', 'another', 'becomes', 'used', 'their', 'get', 'hereby', 'bottom', 'm', 'much', 'herself', 'within', 'ma', 'ten', 'therefore', 'all', 'who', 'neither', 'always', 'upon', 'n’t', 'amongst', 'throughout', 'but', 'everyone', \"needn't\", 'latter', 'ours', 'otherwise', 'everywhere', 'in', 'per', 'you', 'most', 'along', 'not', 'becoming', 'else', 'yet', 'won', 'twelve', 'also', \"mustn't\", 'just', 's', \"that'll\", 'elsewhere', 'something', 'former', 'moreover', 'name', 'own', 'nobody', 'around', 'formerly', 'thereupon', 'll', 'five', \"hadn't\", 'toward', 'thereafter', 'often', 'become', 'anyway', 'six', 'though', \"you're\", 'due', 'either', 'on', 'every', 'so', 'except', \"you've\", 'keep', 'down', \"should've\", 'the', 'and', 'we', \"weren't\", '’re', 'been', 'part', 'last', 'four', \"'s\", 'whole', 'whether', 'thru', '’ll', 'then', 'beforehand', 'them', 'hundred', 'none', \"doesn't\", \"'re\", 'everything', 'whereupon', 'once', 'again', 'mine', 'u', 'than', 'together', 'aren', 'up', 'against', 've', 'myself', 'whom', 'anything', 'really', 'it', \"didn't\", 'towards', 'there', 'other', 'call', 'behind', 'further', 'fifty', \"'d\", 'to', 'ain', 'must', '‘d', 'ha', \"shan't\", '’d', 'having', 'using', 'herein', 'cannot', 'for', 'mostly', 'out', 'my', 'doing', 'thereby', 'n‘t', 'didn', 'y', 'a', 'they', 'least', '‘m', 'seems', 'shouldn', 'indeed', 'side', 'someone', 'empty', 'may', 'nowhere', 'therein', '’m', 'please', 'done', \"won't\", 'seem', 'how', 'alone', 'being', \"don't\", 'first', 'about', 'did', 'under', \"you'd\", 'le', \"'ve\", 'your', 'should', 'what', 'that', 'twenty', 'it', \"isn't\", 'with', 'would', 'while', \"haven't\", 'doe', 'shan', 'made', 'him', 'across', 'might', 'ourselves', 'hereafter', 'off', 'more', 'itself', 'eussiez', 'facon', 'abord', 'ayons', 'ver', 'enfin', 'ho', '', 'aviez', 'ayant', 'etant', 'outre', 'autrement', 'tout', 'leur', 'toute', 'avant', 'hi', 'furent', 'ayez', 'certaine', '', 'rend', 'huitième', 'nos', 'se', 'autrui', 'pourrait', 'pres', 'eues', 'du', 'ô', 'auxquels', 'desormais', 'sans', 'différente', 'sont', 'cinquantième', 'revoila', 'telles', 'huit', 'dedans', 'tout', 'faisaient', '', 'voila', 'â', 'quelques', 'quelconque', 'mes', 'fût', 'dit', 'suivant', '', 'suivant', 'leurs', 'celles', 'aurez', 'desquelles', 'tant', 'comment', 'sous', 'exactement', 'j', 'premièrement', 'serez', 'n', 'fusses', 'ont', 'té', 'memes', 'mai', '', 'pas', 'as', 'eusse', 'basee', 'également', '', '', 'devra', 'si', 'or', 'pourrais', 'aurions', 'déja', 'un', 't', 'tente', 'etaient', 'fûmes', 'doit', 'serons', 'seront', 'serions', 'parle', 'ta', 'par', 'au', 'auraient', 'cette', 'elle', 'étant', 'eux', 'préalable', 'malgre', 'l', 'quelles', 'tend', 'troisième', 'nouveau', 'quoique', 'quels', 'concernant', 'été', 'serai', 'lesquels', 'étaient', 'tienne', 'deuxièmement', 'peu', 'vous', 'il', 'ouvert', 'desquels', 'eue', 'entre', 'tellement', 'antérieures', 'ouias', 'tien', 'nôtre', '', 'ouvert', 'sa', 'quelque', 'ce', 'voici', 'dessous', 'certaines', 'via', 'soient', 'ayante', 'je', '', 'aient', 'antérieure', '', 'ainsi', 'tel', 'differente', 'nous', '', 'encore', 'personne', 'semblable', 'seriez', 'duquel', 'que', 'cinquième', 'm', 'te', 'souvent', 'tiennes', 'fusse', 'merci', 'étée', 'tu', 'importe', 'tes', 'sept', 'da', 'devers', 'premier', 'fussent', 'suffisante', 'deuxième', 'déjà', 'eus', 'son', 'feront', 'toujours', 'fûtes', 'lès', 'des', 'specifiques', 'd', 'auriez', 'me', 't', 'de', 'devant', 'anterieure', 'première', 'precisement', 'ou', 'antérieur', 'soixante', 'hou', 'plus', 'moindres', 'retour', 'suivre', 'ci', 'o', 'avaient', 'vôtre', 'étiez', 'ton', 'assez', 'là', 'i', 'qu', 'fait', 'l', '', 'meme', 'procedant', 'quant', 'les', 'étions', 'aura', '', 'deux', 'certain', 'etc', '', 'dont', 'parfois', 'mien', 'quarante', 'ne', '', 'puisque', 't', 'aurait', '', 'plusieurs', 'certes', 'dire', 'autres', 'car', 'qu', 'selon', 'dehors', 'aurons', 'suis', 'longtemps', 'quand', 'seules', 'étées', 'ai', 'cela', 'spécifiques', 'étant', 'vôtre', 'hormis', 'proche', 'façon', 'c', 'malgré', 'possible', 'revoilà', 'vingt', 'excepté', 'c', 'apres', 's', 'ni', 'somme', 'différent', 'alors', 'avez', 'cinquante', 'quatre', 'peux', 'seul', 'le', 'hem', 'pu', 'près', 'troisièmement', 'hep', 'm', 'attendu', 'mien', 'certain', 'mon', 'deja', 'tres', 'ma', 'd', 'quiconque', 'seulement', 'laisser', 'parmi', 'soyez', 'pour', 'derrière', 'doivent', 'envers', 'n', 'etait', 'dite', 'dans', 'étantes', 'cinquantaine', 'stop', 'anterieures', 'cent', '', 'j', 'elles', 'ils', 'avais', 'chacune', 'étai', 'possibles', 'depuis', 'nombreuses', 'quatrièmement', 'aie', 'peuvent', 'une', 'directe', 'differents', 'divers', 'serais', 'egalement', 'ès', 'fussions', 'allaient', 'notre', 'aussi', 'soit', 'votres', 'j', 'soyons', 'mille', 'mienne', 's', 'eûtes', '', 'et', 'pourquoi', 'parce', 'seras', 'désormais', 'eh', 'bas', 'na', 'la', 'eu', 'fais', 'quinze', 'sera', 'sien', 'font', 'notamment', '', 'delà', 'sienne', 'celle', '', 'dit', 'aux', 'voilà', 'juste', 'été', 'faisant', 'hue', 'celui', 'qu', '', 'revoici', 'sixième', 'vas', 'eût', '', 'lequel', 'plutôt', 'six', '', '', 'chaque', 'lorsque', 'aurais', 'hui', 'compris', 'eussent', 'auxquelles', 'ouverte', 'on', 'vais', 'tels', 'fus', '', 'quelle', 'sien', 'suit', 'touchant', 'serait', 'dixième', 'suffit', 'durant', 'chez', 'diverse', 'restent', 'eûmes', 'différentes', 'est', '', 'hé', 'eussions', 'étante', 'es', 'parlent', 'aura', 'permet', '', 'vé', 'restant', 'quoi', 'partant', 'vont', 'afin', 'hors', 'était', 'eut', 'seize', 'comme', 'nombreux', 'dessus', 'quatrième', 'l', 'gens', 'soi', 'cependant', 'combien', 'suivant', 'houp', 'soi', 'maintenant', 'differentes', 'une', 'miennes', 'va', 'même', 'reste', 'septième', 'eusses', 'neuvième', 'avait', 'ça', 'allons', 's', 'siennes', 'fussiez', 'm', 'surtout', 'tenant', 'aupres', '', 'moins', 'où', 'donc', '', 'douzième', '', 'semble', 'plutot', 'ah', 'ceux', 'cinq', 'moi', 'pense', '', 'environ', 'c', 'après', 'relativement', 'etais', 'seuls', 'dès', 'n', 'avion', 'douze', 'très', 'toi', 'ouste', 'prealable', 'ayants', 'tien', 'auquel', 'onze', 'y', 'a', 'avoir', 'directement', 'qui', '', 'fut', 'derriere', 'puis', 'être', 'ceci', 'd', 'telle', 'sait', 'votre', 'anterieur', 'lors', 'quatorze', 'tenir', 'néanmoins', 'précisement', 'parler', 'même', 'semblaient', 'ha', 'ait', 'suffisant', 'diverses', 'aurai', 'quel', 'relative', 'à', 'cet', 'vos', 'sent', 'différent', 'trois', 'autre', 'sauf', 'laquelle', 'lesquelles', 'lui', 'treize', 'vu', 'jusqu', 'nul', 'different', 'avons', 'toutes', 'ayantes', 'ses', 'pendant', 'auront', 'chacun', 'dejà', 'seraient', 'en', 'seule', 'onzième', 'pouvait', 'spécifique', 'rendre', 'ces', 'aies', 'dix', 'etre', 'nôtre', 'avec', 'specifique', 'bat', 'êtes', 'trente', 'peut', 'un', 'sinon', 'semblent', 'maint', 'effet', 'debout', 'neanmoins', 'jusque', 'eurent', 'sur', 'suivant', 'want', 'find', 'place', 'www', 'years', 'new', 'live', 'know', 'people', 'way', 'http', 'good', 'think', 'like', 'ask', 'city', 'date', 'come', 'time', 'month', 'work', 'week', 'start', 'has', 'https', 'try', 'use', 'actually', 'need', 'lot', 'thing', 'day', 'pa', 'year', 'faire', 'look', 'was', 'going', 'end']}\n"
          ]
        }
      ]
    },
    {
      "cell_type": "code",
      "source": [
        "svm_model = LinearSVC(C=0.6)\n",
        "vectorizer = TfidfVectorizer(analyzer='word', lowercase=True, binary=False, stop_words=stopwords_list, max_features=10000, ngram_range=(1,1))\n",
        "x_vectorized = vectorizer.fit_transform(X_train)\n",
        "cv_results = cross_validate(svm_model, x_vectorized, y_train, cv=10, return_train_score=True)\n",
        "print(\"cross validated training accuracy: \" + str(cv_results['train_score'].mean()))\n",
        "print(\"cross validated validation accuracy: \" + str(cv_results['test_score'].mean()))"
      ],
      "metadata": {
        "colab": {
          "base_uri": "https://localhost:8080/"
        },
        "id": "xUaA2UQnKdRv",
        "outputId": "078b6e3f-f25b-480e-a853-a326cefff35a"
      },
      "execution_count": null,
      "outputs": [
        {
          "output_type": "stream",
          "name": "stdout",
          "text": [
            "cross validated training accuracy: 0.9992857142857143\n",
            "cross validated validation accuracy: 0.7385714285714287\n"
          ]
        }
      ]
    },
    {
      "cell_type": "markdown",
      "source": [
        "# Logistic Regression"
      ],
      "metadata": {
        "id": "QElgNrWob2eC"
      }
    },
    {
      "cell_type": "code",
      "source": [
        "pipe_params = {\n",
        "    \"vect\": [CountVectorizer(analyzer='word', lowercase=True), TfidfVectorizer(analyzer='word', lowercase=True)],\n",
        "    \"vect__binary\": [True, False],\n",
        "    \"vect__stop_words\": [stopwords_list],\n",
        "    \"vect__max_features\": [3000, 6000, 10000],\n",
        "    \"vect__ngram_range\": [(1,1),(1,2),(1,3)],\n",
        "    # \"classify__C\" : np.logspace(0, 2, 4)\n",
        "    \"classify__C\" : np.concatenate((np.linspace(0.1, 1, 10),(np.linspace(2, 10, 9))))\n",
        "}\n",
        "\n",
        "normalizer = Normalizer()\n",
        "LR_model = LogisticRegression(max_iter=1000)\n",
        "\n",
        "pipe = Pipeline(\n",
        "    steps = [\n",
        "        (\"vect\", CountVectorizer(analyzer='word', lowercase=True)),\n",
        "        (\"normalizer\", Normalizer()),\n",
        "        (\"classify\", LR_model),\n",
        "         ]\n",
        ")\n",
        "\n",
        "grid = model_selection.GridSearchCV(pipe, pipe_params, verbose=1, n_jobs=-1, cv=10)\n",
        "\n",
        "grid.fit(X_train, y_train)\n",
        "\n",
        "print(f\"The best accuracy is {grid.best_score_}.\")\n",
        "print(f\"The winning parameters are {grid.best_params_}\")"
      ],
      "metadata": {
        "colab": {
          "base_uri": "https://localhost:8080/"
        },
        "id": "nr9zigRP3NMk",
        "outputId": "cf3eb877-5343-453d-a6dd-db3ca33e609f"
      },
      "execution_count": null,
      "outputs": [
        {
          "output_type": "stream",
          "name": "stdout",
          "text": [
            "Fitting 10 folds for each of 684 candidates, totalling 6840 fits\n",
            "The best accuracy is 0.7292857142857143.\n",
            "The winning parameters are {'classify__C': 10.0, 'vect': TfidfVectorizer(max_features=10000, ngram_range=(1, 2),\n",
            "                stop_words=['sometime', '‘ve', 'get', 'don', 'rather',\n",
            "                            'perhaps', 'same', 'and', 'most', \"'m\", 'name',\n",
            "                            'beside', 'from', 'done', 'it', 'isn', 'anything',\n",
            "                            'afterwards', 'two', 'everything', 'n’t', \"hadn't\",\n",
            "                            'full', 'themselves', 'thence', 'nevertheless',\n",
            "                            'out', 'into', 'whether', 'anywhere', ...]), 'vect__binary': False, 'vect__max_features': 10000, 'vect__ngram_range': (1, 2), 'vect__stop_words': ['sometime', '‘ve', 'get', 'don', 'rather', 'perhaps', 'same', 'and', 'most', \"'m\", 'name', 'beside', 'from', 'done', 'it', 'isn', 'anything', 'afterwards', 'two', 'everything', 'n’t', \"hadn't\", 'full', 'themselves', 'thence', 'nevertheless', 'out', 'into', 'whether', 'anywhere', 'make', \"'ve\", 'above', 'we', 'wouldn', 'then', 'put', \"couldn't\", '‘re', 'would', 'do', 'sixty', 'a', 'serious', 'will', 'a', 'thus', '‘s', 'didn', 'one', \"aren't\", 'seems', '‘ll', 'he', '‘m', 'never', 'latter', 'hereafter', 'also', 'how', 'using', 'ha', 'my', 'although', 'whereby', 'without', 'that', 'amount', 'myself', 'm', 'hereupon', 'toward', 'twelve', 'u', 'you', 'having', 'four', \"it's\", 'on', \"won't\", 'nothing', 'won', 'beforehand', 'alone', 'moreover', 'are', 'no', 'give', 'doing', 'however', 'become', 'by', 'hadn', 'hereby', 'unless', 'with', 'call', \"n't\", 'very', 'became', 'than', 'mightn', 'used', 'somehow', 'just', \"'d\", 'fifteen', 'am', 'bottom', 'y', 'something', 'should', \"needn't\", 'formerly', 'whereafter', 'before', 'everywhere', 'third', 'few', 'have', \"haven't\", 'these', 'hence', 'hers', 'behind', 'n‘t', 'five', 'becomes', 'weren', 'if', 'still', \"mightn't\", 'had', \"shouldn't\", 'part', \"you've\", '‘d', 'every', 'haven', 'only', 'somewhere', 'except', 'me', 'both', 'own', 'ma', 'when', 'himself', 'couldn', 'much', 'up', \"that'll\", 'be', 'beyond', 'too', 'an', 'so', 'him', 'between', 'doesn', 'her', 'all', 'say', 'the', 'o', 'them', 'keep', 'namely', \"mustn't\", 'front', 'shouldn', 'doe', \"wasn't\", 'again', 'often', 'why', 'under', 'well', 'off', \"'s\", \"you're\", 'ain', \"hasn't\", 'various', 'within', 'others', 'but', 'mostly', 'always', 'fifty', 'first', 'it', 'below', 'such', 'latterly', 'former', 'back', 'this', 'those', 'she', 's', 'therein', 'side', 'sometimes', 'becoming', 'were', 'against', 'might', 'indeed', 'else', 'empty', 'least', 'thru', 'ourselves', 'noone', 'last', 'must', 'nor', 'really', 'our', 'amongst', 'move', 'eleven', 'hundred', 'along', \"isn't\", 'everyone', 'whither', 'whenever', 'to', 'many', 'ten', 'three', 'each', 'quite', 'wa', 'around', 'anyway', 'further', 'who', 'seem', 'ours', 'their', \"shan't\", 'whom', 'either', 'whatever', 'wherever', 'needn', 'here', \"'re\", 'go', \"wouldn't\", 'regarding', 'over', 'thereupon', 'about', 'while', 'whoever', 'per', 'now', 'i', 'twenty', 'whereupon', 'elsewhere', 'other', 'mine', 'see', '’d', 'd', 'at', '’re', 'which', 'mustn', 'throughout', 'yet', 'cannot', 'meanwhile', 'already', 'aren', 'among', 'is', 'hasn', 'because', 'le', 'nowhere', 'not', 'until', 'anyone', 'yourself', 'once', 'ca', 'therefore', 'could', 'since', 'seemed', 'next', 'wherein', 'nine', 'where', \"weren't\", \"'ll\", 'another', \"you'll\", \"doesn't\", '’m', \"didn't\", 'nobody', 'whence', 'take', 'forty', 'top', 'herein', 'even', 'someone', 'more', '’s', 'did', 'or', 'yours', '’ll', 't', 'upon', 'please', 've', 'what', 'his', 'whose', 'seeming', 'some', 'your', \"she's\", 'll', 'may', 'enough', 'made', 'show', 'though', \"don't\", 'six', 'itself', 'otherwise', 'almost', 'through', 'anyhow', 'wasn', 'theirs', 'yourselves', 'via', 'besides', 'whereas', 'thereafter', 'they', 'across', 'towards', 'ever', 'none', 'been', '’ve', 'after', \"you'd\", 'down', 'due', 'in', 'whole', 'for', 'onto', 'there', 'together', \"should've\", 'being', 'neither', 'can', 'shan', 'any', 'during', 're', 'eight', 'herself', 'of', 'several', 'thereby', 'soi', 'sait', 'tenant', 'différent', 'eûmes', 'malgre', 'aurions', 'toi', 'miennes', 'sent', 'ah', 'auraient', 't', 'quatorze', 'eussiez', 'première', 'vôtre', 'doivent', 'excepté', 'seras', '', 'rend', 'compris', 'à', 'ça', 'aurez', 'était', 'â', 'ayants', 'etaient', 'n', 'dit', 'entre', 'l', 'semblent', 'avez', 'devers', 'vous', 'qui', 'que', 'tout', 'toujours', 'par', 'dehors', 'surtout', 'qu', 'desquelles', 'aurais', 'j', 'ayante', 'quelle', 'vais', 'certain', '', 'quoi', 'gens', 'a', 'quarante', 'nous', 'dans', 'plusieurs', 'as', 'mien', 'siennes', 'septième', 'té', '', 'étai', 'une', 'c', '', 'allons', 'laquelle', 'nombreux', 'mille', 'se', '', 'chacun', '', 'tres', '', 'memes', 'faisant', 'où', 'meme', 'puisque', 'sans', 'précisement', 'nôtre', 'différentes', 'serait', 'diverse', 'differents', 'sienne', 't', 'directe', 'parler', 'suivant', 'sa', 'neuvième', 'mes', 'tien', 'autre', 'tend', 'chacune', 'encore', 'autres', 'puis', 'm', 'autrement', 'quelles', 'retour', 'proche', 'avaient', '', 'derriere', 'certaine', 'deuxièmement', 'étante', 'nouveau', 'eusse', 'desquels', 'parle', 'aussi', 'debout', 'ha', 'vé', 'duquel', '', 'environ', 'prealable', '', 'ci', 'dès', 'les', 'soixante', 'déjà', 'on', 'avoir', 'étantes', 'depuis', 'differentes', 'furent', 'fûmes', 'm', 'envers', 'antérieure', 'suivre', 'cette', 'tel', 'sous', 'laisser', 'etant', 'combien', 'hors', 'ceux', 'semble', 'auriez', 'tels', 'quiconque', 'fais', 'aviez', 'douzième', 'lui', 'auxquels', 'êtes', 'du', 'd', 'sauf', 'dessus', 'auquel', 'basee', 'toute', 'y', 'na', 'serais', 'eues', 'aux', 'douze', 'spécifique', 'avant', 'houp', 'je', 'font', 'ait', 'été', 'dixième', 'lesquelles', 'qu', 'seule', 'ouvert', '', 'avec', 'celle', 'seriez', 'ton', 'troisième', 'désormais', 'car', 'aurai', 'cinquante', 'ouias', '', 'notre', 'spécifiques', 'un', 'ouvert', 'facon', 'certes', 'te', 'me', 'da', 'ayantes', 'soyez', 'eûtes', 'suit', 'j', 'suffit', 'cent', 'ma', 'vingt', 'c', 'anterieure', 'tout', 'ouverte', 'tente', 'tu', 'vos', 's', 'quoique', 'telle', '', 'l', 'voici', 'eurent', 'eusses', 'ni', 'certain', 'tes', 'suivant', 'cinquantaine', '', '', 'dix', '', '', 'hou', 'afin', '', 'aient', 'elle', 'quels', 'importe', 'premièrement', 'vont', 'auxquelles', 'nos', 'avion', 'ou', 'possibles', '', 'sur', 'o', 'tiennes', 'serions', 'etait', 'ayez', 'semblaient', 'cinquantième', 'va', 'pourrais', 'pres', 'été', '', 'touchant', 'également', 'souvent', 'différent', 'dit', 'qu', 'serez', 'hep', 'onze', 'relative', 'parfois', 'fait', 'rendre', 'anterieures', 'ses', 'ayons', 'neanmoins', 'eut', 'donc', 'etais', 'serai', '', 'suffisante', 'dejà', 'directement', 'somme', 'lorsque', 'antérieures', 'm', 'son', 'près', 'maint', 'leurs', 'devra', 'votres', 'nul', 'comment', 'divers', 'pendant', 'lequel', 's', 'voila', 'hi', 'quatre', 'quel', 'il', 'merci', 'sien', 'attendu', 'peux', 'eh', 'enfin', 'revoila', 'ils', 'specifique', '', 'exactement', 'onzième', 'desormais', 'parlent', 'nombreuses', 'etre', 'sera', 'est', 'differente', 'avons', 'deux', 'ouste', 'possible', 'très', 'différente', 'pour', 'soi', 'procedant', 'la', 'malgré', 'quelque', 'alors', '', 'seules', 'hem', 'seraient', 'stop', 'tant', 'sinon', 'fus', 'ô', 'étant', 'allaient', 'eu', '', 'mien', 'personne', '', 'votre', 'cependant', 'moindres', 'trois', 'notamment', 'serons', 'voilà', 'peuvent', 'plutôt', 'devant', 'j', 'étaient', 'ès', 'étant', 'vas', 'comme', 'restent', '', 'préalable', 'avais', 'hé', 'leur', 'treize', 's', 'eussions', 'des', 'longtemps', 'fut', 'parce', 'c', 'fusses', 'après', 'egalement', 'i', 'suivant', '', 'elles', 'huitième', 'ce', 'eue', 'bas', 'tenir', 'hue', 'quelques', 'mon', 'fussions', 'deuxième', 'pu', 'n', 'd', 'ho', 'es', 'sont', 'en', 'quelconque', 'aies', 'façon', 'premier', 'mienne', 'plus', 'moins', 'precisement', '', 'mai', 'seize', 'soient', 'aie', 'derrière', 'aurons', 'troisièmement', 'lès', 'aura', 'au', 'dessous', 'jusqu', 'là', 'et', 'telles', 'seuls', 'apres', 'dont', 'celles', 'pas', 'soyons', 'pense', 'revoici', 'selon', 'juste', 'outre', 'tienne', 'l', '', 'néanmoins', 'peut', 'antérieur', 'seront', 'seulement', 'tien', 'effet', 'fûtes', 'specifiques', 'vu', 'semblable', 'ai', 'delà', 'dire', 'faisaient', 'durant', 'reste', 'suffisant', 'toutes', 'avait', 'même', '', 'or', 'deja', 't', 'peu', '', 'trente', 'sixième', 'n', 'relativement', 'lesquels', 'le', 'pourquoi', 'chaque', 'étée', 'maintenant', 'ces', 'cet', 'hormis', 'plutot', 'quatrièmement', 'auront', 'fussent', 'bat', 'suis', 'doit', 'six', 'cinquième', 'hui', 'certaines', 'cela', 'ayant', 'abord', 'eût', 'quand', 'déja', 'concernant', 'étions', 'permet', 'fusse', 'sien', 'jusque', 'restant', 'aurait', 'eussent', 'ceci', 'quant', 'huit', 'ta', 'cinq', 'via', 'different', '', 'revoilà', 'soit', 'dite', 'fussiez', 'ont', 'eus', 'tellement', 'vôtre', 'fût', 'feront', 'étiez', 'nôtre', 'étées', 'eux', 'celui', 'quatrième', 'pouvait', 'parmi', 'dedans', 'suivant', 'chez', 'anterieur', 'ne', 'partant', 'autrui', 'aupres', 'd', 'même', 'un', 'diverses', 'une', 'aura', 'sept', 'ainsi', 'ver', 'moi', 'être', 'lors', 'seul', 'etc', 'de', 'si', 'quinze', 'assez', 'pourrait', 'actually', 'find', 'week', 'know', 'live', 'was', 'need', 'way', 'start', 'day', 'www', 'like', 'month', 'good', 'new', 'years', 'http', 'try', 'thing', 'pa', 'look', 'people', 'https', 'date', 'going', 'year', 'city', 'place', 'think', 'has', 'work', 'time', 'use', 'lot', 'come', 'want', 'ask', 'faire', 'end']}\n"
          ]
        }
      ]
    },
    {
      "cell_type": "markdown",
      "source": [
        "Kaggle Competition"
      ],
      "metadata": {
        "id": "rSozEg8fYWTz"
      }
    },
    {
      "cell_type": "code",
      "source": [
        "pipe_params = {\n",
        "    \"vect__stop_words\": [stopwords_list],\n",
        "    \"vect__max_features\": [10000],\n",
        "    \"vect__ngram_range\": [(1,2)],\n",
        "    \"classify__C\" : [10]\n",
        "}\n",
        "\n",
        "vectorizer = TfidfVectorizer(analyzer='word', lowercase=True, binary=False)\n",
        "normalizer = Normalizer()\n",
        "LR_model = LogisticRegression(max_iter=1000)\n",
        "\n",
        "pipe = Pipeline(\n",
        "    steps = [\n",
        "        (\"vect\", vectorizer),\n",
        "        (\"normalizer\", Normalizer()),\n",
        "        (\"classify\", LR_model),\n",
        "    ]\n",
        ")\n",
        "\n",
        "grid = model_selection.GridSearchCV(pipe, pipe_params, verbose=1, n_jobs=-1, cv=10, refit=True)\n",
        "\n",
        "grid.fit(X_train, y_train)\n",
        "\n",
        "print(f\"The best accuracy is {grid.best_score_}.\")\n",
        "print(f\"The winning parameters are {grid.best_params_}\")\n",
        "y_test_LinearSVM = grid.predict(X_test)\n",
        "\n",
        "\n",
        "id_data = list(range(len(y_test_LinearSVM)))\n",
        "output = pd.DataFrame({'id':id_data, 'subreddit':y_test_LinearSVM})\n",
        "output.to_csv('/content/drive/MyDrive/Colab Notebooks/ECSE551 Machine Learning for Engineers/project2/test_prediction/test_prediction_LogisticRegression_20240315.csv',index=False)"
      ],
      "metadata": {
        "colab": {
          "base_uri": "https://localhost:8080/"
        },
        "id": "Cqwb0XADYVvB",
        "outputId": "ee8aa422-ff63-4b51-b9d2-5deadf8a5023"
      },
      "execution_count": null,
      "outputs": [
        {
          "output_type": "stream",
          "name": "stdout",
          "text": [
            "Fitting 10 folds for each of 1 candidates, totalling 10 fits\n",
            "The best accuracy is 0.7292857142857143.\n",
            "The winning parameters are {'classify__C': 10, 'vect__max_features': 10000, 'vect__ngram_range': (1, 2), 'vect__stop_words': ['sometime', '‘ve', 'get', 'don', 'rather', 'perhaps', 'same', 'and', 'most', \"'m\", 'name', 'beside', 'from', 'done', 'it', 'isn', 'anything', 'afterwards', 'two', 'everything', 'n’t', \"hadn't\", 'full', 'themselves', 'thence', 'nevertheless', 'out', 'into', 'whether', 'anywhere', 'make', \"'ve\", 'above', 'we', 'wouldn', 'then', 'put', \"couldn't\", '‘re', 'would', 'do', 'sixty', 'a', 'serious', 'will', 'a', 'thus', '‘s', 'didn', 'one', \"aren't\", 'seems', '‘ll', 'he', '‘m', 'never', 'latter', 'hereafter', 'also', 'how', 'using', 'ha', 'my', 'although', 'whereby', 'without', 'that', 'amount', 'myself', 'm', 'hereupon', 'toward', 'twelve', 'u', 'you', 'having', 'four', \"it's\", 'on', \"won't\", 'nothing', 'won', 'beforehand', 'alone', 'moreover', 'are', 'no', 'give', 'doing', 'however', 'become', 'by', 'hadn', 'hereby', 'unless', 'with', 'call', \"n't\", 'very', 'became', 'than', 'mightn', 'used', 'somehow', 'just', \"'d\", 'fifteen', 'am', 'bottom', 'y', 'something', 'should', \"needn't\", 'formerly', 'whereafter', 'before', 'everywhere', 'third', 'few', 'have', \"haven't\", 'these', 'hence', 'hers', 'behind', 'n‘t', 'five', 'becomes', 'weren', 'if', 'still', \"mightn't\", 'had', \"shouldn't\", 'part', \"you've\", '‘d', 'every', 'haven', 'only', 'somewhere', 'except', 'me', 'both', 'own', 'ma', 'when', 'himself', 'couldn', 'much', 'up', \"that'll\", 'be', 'beyond', 'too', 'an', 'so', 'him', 'between', 'doesn', 'her', 'all', 'say', 'the', 'o', 'them', 'keep', 'namely', \"mustn't\", 'front', 'shouldn', 'doe', \"wasn't\", 'again', 'often', 'why', 'under', 'well', 'off', \"'s\", \"you're\", 'ain', \"hasn't\", 'various', 'within', 'others', 'but', 'mostly', 'always', 'fifty', 'first', 'it', 'below', 'such', 'latterly', 'former', 'back', 'this', 'those', 'she', 's', 'therein', 'side', 'sometimes', 'becoming', 'were', 'against', 'might', 'indeed', 'else', 'empty', 'least', 'thru', 'ourselves', 'noone', 'last', 'must', 'nor', 'really', 'our', 'amongst', 'move', 'eleven', 'hundred', 'along', \"isn't\", 'everyone', 'whither', 'whenever', 'to', 'many', 'ten', 'three', 'each', 'quite', 'wa', 'around', 'anyway', 'further', 'who', 'seem', 'ours', 'their', \"shan't\", 'whom', 'either', 'whatever', 'wherever', 'needn', 'here', \"'re\", 'go', \"wouldn't\", 'regarding', 'over', 'thereupon', 'about', 'while', 'whoever', 'per', 'now', 'i', 'twenty', 'whereupon', 'elsewhere', 'other', 'mine', 'see', '’d', 'd', 'at', '’re', 'which', 'mustn', 'throughout', 'yet', 'cannot', 'meanwhile', 'already', 'aren', 'among', 'is', 'hasn', 'because', 'le', 'nowhere', 'not', 'until', 'anyone', 'yourself', 'once', 'ca', 'therefore', 'could', 'since', 'seemed', 'next', 'wherein', 'nine', 'where', \"weren't\", \"'ll\", 'another', \"you'll\", \"doesn't\", '’m', \"didn't\", 'nobody', 'whence', 'take', 'forty', 'top', 'herein', 'even', 'someone', 'more', '’s', 'did', 'or', 'yours', '’ll', 't', 'upon', 'please', 've', 'what', 'his', 'whose', 'seeming', 'some', 'your', \"she's\", 'll', 'may', 'enough', 'made', 'show', 'though', \"don't\", 'six', 'itself', 'otherwise', 'almost', 'through', 'anyhow', 'wasn', 'theirs', 'yourselves', 'via', 'besides', 'whereas', 'thereafter', 'they', 'across', 'towards', 'ever', 'none', 'been', '’ve', 'after', \"you'd\", 'down', 'due', 'in', 'whole', 'for', 'onto', 'there', 'together', \"should've\", 'being', 'neither', 'can', 'shan', 'any', 'during', 're', 'eight', 'herself', 'of', 'several', 'thereby', 'soi', 'sait', 'tenant', 'différent', 'eûmes', 'malgre', 'aurions', 'toi', 'miennes', 'sent', 'ah', 'auraient', 't', 'quatorze', 'eussiez', 'première', 'vôtre', 'doivent', 'excepté', 'seras', '', 'rend', 'compris', 'à', 'ça', 'aurez', 'était', 'â', 'ayants', 'etaient', 'n', 'dit', 'entre', 'l', 'semblent', 'avez', 'devers', 'vous', 'qui', 'que', 'tout', 'toujours', 'par', 'dehors', 'surtout', 'qu', 'desquelles', 'aurais', 'j', 'ayante', 'quelle', 'vais', 'certain', '', 'quoi', 'gens', 'a', 'quarante', 'nous', 'dans', 'plusieurs', 'as', 'mien', 'siennes', 'septième', 'té', '', 'étai', 'une', 'c', '', 'allons', 'laquelle', 'nombreux', 'mille', 'se', '', 'chacun', '', 'tres', '', 'memes', 'faisant', 'où', 'meme', 'puisque', 'sans', 'précisement', 'nôtre', 'différentes', 'serait', 'diverse', 'differents', 'sienne', 't', 'directe', 'parler', 'suivant', 'sa', 'neuvième', 'mes', 'tien', 'autre', 'tend', 'chacune', 'encore', 'autres', 'puis', 'm', 'autrement', 'quelles', 'retour', 'proche', 'avaient', '', 'derriere', 'certaine', 'deuxièmement', 'étante', 'nouveau', 'eusse', 'desquels', 'parle', 'aussi', 'debout', 'ha', 'vé', 'duquel', '', 'environ', 'prealable', '', 'ci', 'dès', 'les', 'soixante', 'déjà', 'on', 'avoir', 'étantes', 'depuis', 'differentes', 'furent', 'fûmes', 'm', 'envers', 'antérieure', 'suivre', 'cette', 'tel', 'sous', 'laisser', 'etant', 'combien', 'hors', 'ceux', 'semble', 'auriez', 'tels', 'quiconque', 'fais', 'aviez', 'douzième', 'lui', 'auxquels', 'êtes', 'du', 'd', 'sauf', 'dessus', 'auquel', 'basee', 'toute', 'y', 'na', 'serais', 'eues', 'aux', 'douze', 'spécifique', 'avant', 'houp', 'je', 'font', 'ait', 'été', 'dixième', 'lesquelles', 'qu', 'seule', 'ouvert', '', 'avec', 'celle', 'seriez', 'ton', 'troisième', 'désormais', 'car', 'aurai', 'cinquante', 'ouias', '', 'notre', 'spécifiques', 'un', 'ouvert', 'facon', 'certes', 'te', 'me', 'da', 'ayantes', 'soyez', 'eûtes', 'suit', 'j', 'suffit', 'cent', 'ma', 'vingt', 'c', 'anterieure', 'tout', 'ouverte', 'tente', 'tu', 'vos', 's', 'quoique', 'telle', '', 'l', 'voici', 'eurent', 'eusses', 'ni', 'certain', 'tes', 'suivant', 'cinquantaine', '', '', 'dix', '', '', 'hou', 'afin', '', 'aient', 'elle', 'quels', 'importe', 'premièrement', 'vont', 'auxquelles', 'nos', 'avion', 'ou', 'possibles', '', 'sur', 'o', 'tiennes', 'serions', 'etait', 'ayez', 'semblaient', 'cinquantième', 'va', 'pourrais', 'pres', 'été', '', 'touchant', 'également', 'souvent', 'différent', 'dit', 'qu', 'serez', 'hep', 'onze', 'relative', 'parfois', 'fait', 'rendre', 'anterieures', 'ses', 'ayons', 'neanmoins', 'eut', 'donc', 'etais', 'serai', '', 'suffisante', 'dejà', 'directement', 'somme', 'lorsque', 'antérieures', 'm', 'son', 'près', 'maint', 'leurs', 'devra', 'votres', 'nul', 'comment', 'divers', 'pendant', 'lequel', 's', 'voila', 'hi', 'quatre', 'quel', 'il', 'merci', 'sien', 'attendu', 'peux', 'eh', 'enfin', 'revoila', 'ils', 'specifique', '', 'exactement', 'onzième', 'desormais', 'parlent', 'nombreuses', 'etre', 'sera', 'est', 'differente', 'avons', 'deux', 'ouste', 'possible', 'très', 'différente', 'pour', 'soi', 'procedant', 'la', 'malgré', 'quelque', 'alors', '', 'seules', 'hem', 'seraient', 'stop', 'tant', 'sinon', 'fus', 'ô', 'étant', 'allaient', 'eu', '', 'mien', 'personne', '', 'votre', 'cependant', 'moindres', 'trois', 'notamment', 'serons', 'voilà', 'peuvent', 'plutôt', 'devant', 'j', 'étaient', 'ès', 'étant', 'vas', 'comme', 'restent', '', 'préalable', 'avais', 'hé', 'leur', 'treize', 's', 'eussions', 'des', 'longtemps', 'fut', 'parce', 'c', 'fusses', 'après', 'egalement', 'i', 'suivant', '', 'elles', 'huitième', 'ce', 'eue', 'bas', 'tenir', 'hue', 'quelques', 'mon', 'fussions', 'deuxième', 'pu', 'n', 'd', 'ho', 'es', 'sont', 'en', 'quelconque', 'aies', 'façon', 'premier', 'mienne', 'plus', 'moins', 'precisement', '', 'mai', 'seize', 'soient', 'aie', 'derrière', 'aurons', 'troisièmement', 'lès', 'aura', 'au', 'dessous', 'jusqu', 'là', 'et', 'telles', 'seuls', 'apres', 'dont', 'celles', 'pas', 'soyons', 'pense', 'revoici', 'selon', 'juste', 'outre', 'tienne', 'l', '', 'néanmoins', 'peut', 'antérieur', 'seront', 'seulement', 'tien', 'effet', 'fûtes', 'specifiques', 'vu', 'semblable', 'ai', 'delà', 'dire', 'faisaient', 'durant', 'reste', 'suffisant', 'toutes', 'avait', 'même', '', 'or', 'deja', 't', 'peu', '', 'trente', 'sixième', 'n', 'relativement', 'lesquels', 'le', 'pourquoi', 'chaque', 'étée', 'maintenant', 'ces', 'cet', 'hormis', 'plutot', 'quatrièmement', 'auront', 'fussent', 'bat', 'suis', 'doit', 'six', 'cinquième', 'hui', 'certaines', 'cela', 'ayant', 'abord', 'eût', 'quand', 'déja', 'concernant', 'étions', 'permet', 'fusse', 'sien', 'jusque', 'restant', 'aurait', 'eussent', 'ceci', 'quant', 'huit', 'ta', 'cinq', 'via', 'different', '', 'revoilà', 'soit', 'dite', 'fussiez', 'ont', 'eus', 'tellement', 'vôtre', 'fût', 'feront', 'étiez', 'nôtre', 'étées', 'eux', 'celui', 'quatrième', 'pouvait', 'parmi', 'dedans', 'suivant', 'chez', 'anterieur', 'ne', 'partant', 'autrui', 'aupres', 'd', 'même', 'un', 'diverses', 'une', 'aura', 'sept', 'ainsi', 'ver', 'moi', 'être', 'lors', 'seul', 'etc', 'de', 'si', 'quinze', 'assez', 'pourrait', 'actually', 'find', 'week', 'know', 'live', 'was', 'need', 'way', 'start', 'day', 'www', 'like', 'month', 'good', 'new', 'years', 'http', 'try', 'thing', 'pa', 'look', 'people', 'https', 'date', 'going', 'year', 'city', 'place', 'think', 'has', 'work', 'time', 'use', 'lot', 'come', 'want', 'ask', 'faire', 'end']}\n"
          ]
        }
      ]
    },
    {
      "cell_type": "markdown",
      "source": [
        "C=2 LogisticRegression"
      ],
      "metadata": {
        "id": "o7WkbUkrFafE"
      }
    },
    {
      "cell_type": "code",
      "source": [
        "from sklearn.linear_model import LogisticRegression\n",
        "\n",
        "pipe_params = {\n",
        "    \"vect__stop_words\": [stopwords_list],\n",
        "    \"vect__max_features\": [3000],\n",
        "    \"vect__ngram_range\": [(1,1)],\n",
        "    \"classify__C\" : [2]\n",
        "}\n",
        "\n",
        "vectorizer = TfidfVectorizer(analyzer='word', binary=False, tokenizer=New_LemmaTokenizer())\n",
        "normalizer = Normalizer()\n",
        "LR_model = LogisticRegression(penalty='l2', solver='liblinear', max_iter=1000)\n",
        "\n",
        "pipe = Pipeline(\n",
        "    steps = [\n",
        "        (\"vect\", vectorizer),\n",
        "        (\"normalizer\", Normalizer()),\n",
        "        (\"classify\", LR_model),\n",
        "    ]\n",
        ")\n",
        "\n",
        "grid = model_selection.GridSearchCV(pipe, pipe_params, verbose=1, n_jobs=1, cv=10, refit=True)\n",
        "\n",
        "grid.fit(X_train, y_train)\n",
        "\n",
        "print(f\"The best accuracy is {grid.best_score_}.\")\n",
        "print(f\"The winning parameters are {grid.best_params_}\")\n",
        "# y_test_LinearSVM = grid.predict(X_test)\n",
        "\n",
        "\n",
        "# id_data = list(range(len(y_test_LinearSVM)))\n",
        "# output = pd.DataFrame({'id':id_data, 'subreddit':y_test_LinearSVM})\n",
        "# output.to_csv('/content/drive/MyDrive/Colab Notebooks/ECSE551 Machine Learning for Engineers/project2/test_prediction/test_prediction_LogisticRegression_20240315.csv',index=False)"
      ],
      "metadata": {
        "colab": {
          "base_uri": "https://localhost:8080/"
        },
        "id": "z2sKcS21FlqT",
        "outputId": "5083311e-060d-4d28-acb9-bf625a41b165"
      },
      "execution_count": null,
      "outputs": [
        {
          "output_type": "stream",
          "name": "stdout",
          "text": [
            "Fitting 10 folds for each of 1 candidates, totalling 10 fits\n"
          ]
        },
        {
          "output_type": "stream",
          "name": "stderr",
          "text": [
            "/usr/local/lib/python3.10/dist-packages/sklearn/feature_extraction/text.py:528: UserWarning: The parameter 'token_pattern' will not be used since 'tokenizer' is not None'\n",
            "  warnings.warn(\n",
            "/usr/local/lib/python3.10/dist-packages/sklearn/feature_extraction/text.py:409: UserWarning: Your stop_words may be inconsistent with your preprocessing. Tokenizing the stop words generated tokens ['avon', 'ba', 'diver', 'e', 'far', 'fuss', 'gen', 'regard', 'serum'] not in stop_words.\n",
            "  warnings.warn(\n",
            "/usr/local/lib/python3.10/dist-packages/sklearn/feature_extraction/text.py:528: UserWarning: The parameter 'token_pattern' will not be used since 'tokenizer' is not None'\n",
            "  warnings.warn(\n",
            "/usr/local/lib/python3.10/dist-packages/sklearn/feature_extraction/text.py:409: UserWarning: Your stop_words may be inconsistent with your preprocessing. Tokenizing the stop words generated tokens ['avon', 'ba', 'diver', 'e', 'far', 'fuss', 'gen', 'regard', 'serum'] not in stop_words.\n",
            "  warnings.warn(\n",
            "/usr/local/lib/python3.10/dist-packages/sklearn/feature_extraction/text.py:528: UserWarning: The parameter 'token_pattern' will not be used since 'tokenizer' is not None'\n",
            "  warnings.warn(\n",
            "/usr/local/lib/python3.10/dist-packages/sklearn/feature_extraction/text.py:409: UserWarning: Your stop_words may be inconsistent with your preprocessing. Tokenizing the stop words generated tokens ['avon', 'ba', 'diver', 'e', 'far', 'fuss', 'gen', 'regard', 'serum'] not in stop_words.\n",
            "  warnings.warn(\n",
            "/usr/local/lib/python3.10/dist-packages/sklearn/feature_extraction/text.py:528: UserWarning: The parameter 'token_pattern' will not be used since 'tokenizer' is not None'\n",
            "  warnings.warn(\n",
            "/usr/local/lib/python3.10/dist-packages/sklearn/feature_extraction/text.py:409: UserWarning: Your stop_words may be inconsistent with your preprocessing. Tokenizing the stop words generated tokens ['avon', 'ba', 'diver', 'e', 'far', 'fuss', 'gen', 'regard', 'serum'] not in stop_words.\n",
            "  warnings.warn(\n",
            "/usr/local/lib/python3.10/dist-packages/sklearn/feature_extraction/text.py:528: UserWarning: The parameter 'token_pattern' will not be used since 'tokenizer' is not None'\n",
            "  warnings.warn(\n",
            "/usr/local/lib/python3.10/dist-packages/sklearn/feature_extraction/text.py:409: UserWarning: Your stop_words may be inconsistent with your preprocessing. Tokenizing the stop words generated tokens ['avon', 'ba', 'diver', 'e', 'far', 'fuss', 'gen', 'regard', 'serum'] not in stop_words.\n",
            "  warnings.warn(\n",
            "/usr/local/lib/python3.10/dist-packages/sklearn/feature_extraction/text.py:528: UserWarning: The parameter 'token_pattern' will not be used since 'tokenizer' is not None'\n",
            "  warnings.warn(\n",
            "/usr/local/lib/python3.10/dist-packages/sklearn/feature_extraction/text.py:409: UserWarning: Your stop_words may be inconsistent with your preprocessing. Tokenizing the stop words generated tokens ['avon', 'ba', 'diver', 'e', 'far', 'fuss', 'gen', 'regard', 'serum'] not in stop_words.\n",
            "  warnings.warn(\n",
            "/usr/local/lib/python3.10/dist-packages/sklearn/feature_extraction/text.py:528: UserWarning: The parameter 'token_pattern' will not be used since 'tokenizer' is not None'\n",
            "  warnings.warn(\n",
            "/usr/local/lib/python3.10/dist-packages/sklearn/feature_extraction/text.py:409: UserWarning: Your stop_words may be inconsistent with your preprocessing. Tokenizing the stop words generated tokens ['avon', 'ba', 'diver', 'e', 'far', 'fuss', 'gen', 'regard', 'serum'] not in stop_words.\n",
            "  warnings.warn(\n",
            "/usr/local/lib/python3.10/dist-packages/sklearn/feature_extraction/text.py:528: UserWarning: The parameter 'token_pattern' will not be used since 'tokenizer' is not None'\n",
            "  warnings.warn(\n",
            "/usr/local/lib/python3.10/dist-packages/sklearn/feature_extraction/text.py:409: UserWarning: Your stop_words may be inconsistent with your preprocessing. Tokenizing the stop words generated tokens ['avon', 'ba', 'diver', 'e', 'far', 'fuss', 'gen', 'regard', 'serum'] not in stop_words.\n",
            "  warnings.warn(\n",
            "/usr/local/lib/python3.10/dist-packages/sklearn/feature_extraction/text.py:528: UserWarning: The parameter 'token_pattern' will not be used since 'tokenizer' is not None'\n",
            "  warnings.warn(\n",
            "/usr/local/lib/python3.10/dist-packages/sklearn/feature_extraction/text.py:409: UserWarning: Your stop_words may be inconsistent with your preprocessing. Tokenizing the stop words generated tokens ['avon', 'ba', 'diver', 'e', 'far', 'fuss', 'gen', 'regard', 'serum'] not in stop_words.\n",
            "  warnings.warn(\n",
            "/usr/local/lib/python3.10/dist-packages/sklearn/feature_extraction/text.py:528: UserWarning: The parameter 'token_pattern' will not be used since 'tokenizer' is not None'\n",
            "  warnings.warn(\n",
            "/usr/local/lib/python3.10/dist-packages/sklearn/feature_extraction/text.py:409: UserWarning: Your stop_words may be inconsistent with your preprocessing. Tokenizing the stop words generated tokens ['avon', 'ba', 'diver', 'e', 'far', 'fuss', 'gen', 'regard', 'serum'] not in stop_words.\n",
            "  warnings.warn(\n",
            "/usr/local/lib/python3.10/dist-packages/sklearn/feature_extraction/text.py:528: UserWarning: The parameter 'token_pattern' will not be used since 'tokenizer' is not None'\n",
            "  warnings.warn(\n",
            "/usr/local/lib/python3.10/dist-packages/sklearn/feature_extraction/text.py:409: UserWarning: Your stop_words may be inconsistent with your preprocessing. Tokenizing the stop words generated tokens ['avon', 'ba', 'diver', 'e', 'far', 'fuss', 'gen', 'regard', 'serum'] not in stop_words.\n",
            "  warnings.warn(\n"
          ]
        },
        {
          "output_type": "stream",
          "name": "stdout",
          "text": [
            "The best accuracy is 0.6900000000000001.\n",
            "The winning parameters are {'classify__C': 2, 'vect__max_features': 3000, 'vect__ngram_range': (1, 1), 'vect__stop_words': ['make', 'i', 'le', 'whereby', 'latter', 'd', \"'re\", \"weren't\", 'ten', 'well', 'yours', 'among', 'see', \"n't\", 'various', 'my', 'while', 'she', 'hadn', 'whole', 'yourselves', 'beyond', \"isn't\", \"you'll\", 'full', 'them', 'whenever', 'a', 'please', 'mightn', 'wasn', 'many', 'their', 'though', 'hence', \"'m\", 'are', 'been', 'side', 'shan', 'more', 'against', 'out', 'unless', 'sometime', 'n‘t', 'using', 'of', 'into', 'nor', \"'ve\", 'everything', 'upon', \"don't\", \"she's\", 'formerly', 'through', 'ourselves', 'fifty', 'can', '‘s', 'always', 'becoming', 'if', '’m', 'own', \"needn't\", 'hundred', 'don', \"'s\", 'having', 'every', 'thereafter', 'up', 'were', 'moreover', 'ain', 'an', \"shan't\", 'except', 'ever', 'part', 'three', 'how', 'about', 'two', 'last', 'thereupon', 'so', 'sometimes', 'have', \"you'd\", 'wherein', 'one', 'none', 'myself', '’d', 'elsewhere', 'would', 'first', \"'ll\", \"that'll\", 'really', 'nine', 'some', 'move', 'whither', 'get', 'otherwise', 'still', 'nobody', 'yourself', 'take', 'did', 'during', 'somehow', 'due', \"it's\", 'within', '’ve', 'aren', 'wa', 'therefore', 'or', 'noone', 'whose', \"won't\", 'enough', 'too', 'hereupon', 'on', 'won', 'throughout', 'wouldn', 'whereupon', 'from', 'perhaps', 'off', 'few', 'done', 'amount', 'namely', 'therein', 'by', 'than', '‘m', 'each', 'anything', 'also', 'thereby', 'bottom', 'hereby', 'doesn', 'beside', \"shouldn't\", 'for', 'former', 'may', 'thus', 'where', 't', 'above', 'these', 'couldn', '’ll', 'hereafter', 'we', 'here', 'now', 'mostly', 'back', 'both', 'nowhere', 'became', 'either', 'mustn', 'will', 'around', 'whence', 'someone', 'somewhere', 'u', 'in', 'then', 'doing', 'another', \"wouldn't\", 'herself', 'neither', 'there', 'together', 'your', \"hadn't\", 'besides', 'himself', 'that', 'yet', 'across', 'before', 'name', 'third', 'had', 'after', 'forty', 'seemed', 'm', 'nevertheless', 'seeming', 'per', 'empty', 'it', 'everywhere', 'rather', 'since', 'what', 'hers', \"you've\", 'could', \"'d\", 'regarding', 'you', 'll', 'didn', 'top', 'beforehand', 'behind', 'just', 'n’t', 'all', 'over', 'same', 'weren', 'being', 'doe', 'be', 'do', 'ma', \"you're\", '‘re', 'call', 'our', 'becomes', 'used', 'along', 'latterly', 'further', 've', 'herein', 'such', \"aren't\", 'least', 'show', 's', 'theirs', 'itself', 'meanwhile', \"wasn't\", 'not', 'why', 'a', 'anywhere', 'toward', 'although', 'quite', 'even', 'whether', 'those', 'others', 'and', 'often', 'this', 'six', 'whoever', 'anyone', 'between', 'made', 'whatever', 'keep', '‘ll', 'very', 'give', 'o', 'seems', 'never', 'me', 'only', 'onto', 'say', 'front', 'other', 'wherever', 'because', 'sixty', 'once', 'five', 'her', 'become', 'but', 'shouldn', \"hasn't\", 'much', 'when', 'whereas', 'nothing', 'ours', 'afterwards', 'serious', 'anyway', 'am', 'might', 'whereafter', 'with', 'most', 'twenty', 'seem', 'themselves', \"mightn't\", 'else', 'eight', 'at', 'which', 'him', 'thence', 'something', \"doesn't\", 'should', 'haven', 'needn', 'four', 'his', 'fifteen', \"couldn't\", 'put', 'eleven', 'several', \"should've\", 'towards', \"haven't\", '‘ve', \"didn't\", '‘d', 'anyhow', 'the', 'however', 'y', 'under', 'they', 'until', 'who', 'go', 'amongst', 'mine', 'ha', 're', 'isn', 'is', 'twelve', 'any', 'thru', 'no', '’re', 'whom', 'it', '’s', 'via', 'everyone', 'must', 'next', 'cannot', 'almost', 'below', 'ca', 'without', 'alone', 'down', 'again', 'to', 'he', \"mustn't\", 'hasn', 'indeed', 'already', 'suivant', 'i', 'septième', 'quelconque', 'fut', 'laquelle', 'pour', '', 'd', '', 'ceci', 'differente', 'un', 'effet', 'étant', 'deuxième', 'façon', 'tien', 'l', 'eut', 'êtes', 'chez', 'chaque', 'autre', 'certain', 'fais', 'celles', 'anterieur', 'desquels', 'es', 'pu', 'jusqu', 'fût', 'ayant', 'suivant', 'facon', 'hi', 'sinon', '', 'merci', 'd', 'comme', 'ayante', 'as', 'hors', 'où', 'spécifique', 'tes', 'eu', 'entre', 'lui', 'sur', 'autres', 'une', 'hep', 'sa', 'là', 'avoir', 'chacun', 'tente', 'reste', '', 'sauf', '', '', 'souvent', 'debout', 'quand', 'ho', 'diverses', 'relative', 'préalable', 'etait', '', 'specifique', 'tenant', 'un', 'lorsque', 'pendant', 'seulement', 'duquel', 'car', 'proche', 'nôtre', 'antérieure', 'fûmes', '', 'da', 'neanmoins', 'ses', 'longtemps', 'quel', 'auront', '', 'nombreux', 'l', 'très', 'vu', 'étante', 'soyez', 'eussiez', 'autrui', 'cela', 'sait', 'mille', 'été', 'laisser', 'semblent', 'fûtes', 'ah', 'retour', 'cinquième', 'nôtre', 'serait', 'tu', 'pas', 'devers', 'hui', 'désormais', 'peuvent', 'hormis', 'plutot', 'déja', 'toute', 'relativement', 'certain', 'environ', 'fus', 'votre', 'ni', 'ta', 'eût', 'dedans', 'ces', 'qu', 'eues', 'delà', 'différent', 'huit', 'cinquantième', 'serez', 'huitième', 'mai', 'ça', 'soient', 'alors', 'sera', 'également', 'troisièmement', 'voilà', 'va', 'seront', 'douzième', 'troisième', 'memes', 'était', 'té', 'pres', 'desormais', 'semblaient', 'avait', 'celle', 'tout', 'lors', 'aurez', 'pourrais', 'ès', 'differents', 'parle', 'toi', 'mienne', 'hé', 'dit', 'onzième', 'n', 'ainsi', 'ayants', 'font', 'suivant', 'néanmoins', 'mien', 'ô', 'si', 'puis', 'ce', 'dont', 'assez', 'seize', 'differentes', 'combien', 'nombreuses', 'eussent', 'deja', 'avant', 'deux', 'mien', 'fussent', 'sixième', 'or', 'aient', 'ayez', 'des', 'on', 'telles', 'apres', 'sien', 't', 'parce', 'après', 'gens', 'avais', 'ayons', 'fait', 'soit', 'eûmes', 'revoila', 'encore', 'quoique', 'tien', 'en', 'm', 'deuxièmement', 'abord', 'tiennes', 'enfin', 'de', '', 'donc', 'quelle', 'soi', 'afin', 'feront', 'qu', 'c', 'pourrait', 'desquelles', 't', 'étée', 'semble', 'precisement', 'toutes', '', 'divers', 'ceux', 'quels', 'elles', 'allaient', '', 'seules', 'tenir', 'permet', 'specifiques', 'sien', '', 'cent', 'auriez', '', 't', 'treize', 'nos', 'parfois', 'nous', 'soixante', 'ayantes', 'etaient', '', 'quatorze', 'quarante', '', 'tel', 'du', 'devra', 'même', 'fussions', 'j', 'aurait', 'devant', 'plutôt', '', 'plus', 'les', 'aura', 'sous', 'doivent', 'dite', 'fusse', 'avez', 'quatrièmement', 'revoici', 'meme', 'chacune', 'm', 'jusque', 'surtout', 'auraient', 'serions', 'neuvième', 'eus', 'faisaient', 'anterieure', 'procedant', 'ci', 'certaine', 'seriez', 'qui', 'cinq', 'ai', 'elle', 'vôtre', 'étant', '', 'étiez', 'houp', 'ma', '', 'suffit', 'moindres', 'auquel', 'je', 'tres', 'et', 'ver', 'vous', 'avion', 'doit', 'différent', 'peu', 'derrière', 'vais', '', 'aux', 'même', 'qu', 'etais', 'vôtre', 'dehors', 'dit', 'quinze', 'étai', 'lesquelles', '', 'moi', 'eussions', 'â', 'fusses', 'derriere', 'exactement', 'tant', 'j', 'eh', 'etc', 's', 'eux', 'celui', 'selon', 'n', 'première', 'depuis', 'a', 'étées', 'étions', 'fussiez', 'restant', 'autrement', 'hue', 'certes', 'ouste', 'quelque', 'partant', 'restent', 'bas', '', 'c', 'auxquelles', 'vos', 'six', 'ou', 'dès', 'onze', 'soi', 'par', 'son', 'mes', 'moins', 'pourquoi', 'm', 'o', 'telle', 'me', 'différente', 'serais', 'ils', 'quatrième', 'malgré', 'que', 'eûtes', 'attendu', 'étaient', 'étantes', 'basee', 'une', 'etant', 'lequel', 'notamment', 'egalement', 'dessous', 'touchant', 'avaient', 'stop', 'vas', 'sienne', 'douze', 'parler', 'eusses', 'l', 'mon', 'quelques', 'dix', 'aie', 'suffisant', 'le', 'vé', 'compris', 'tend', 'n', 'au', 'ton', 'concernant', 'suivre', 'etre', 'leur', 'premièrement', 'cinquantaine', 'quatre', 's', 'dejà', 'different', 'seul', 'possibles', 'semblable', 'directe', 'serons', 'aura', 'notre', 'dessus', 'siennes', 'trente', 'toujours', 'dixième', 'avons', 'somme', 'importe', 'avec', 'quiconque', 'tout', 'aurais', 'eusse', 'cette', 'comment', 'te', '', 'trois', 'suis', 'antérieur', 'anterieures', 'directement', 'serai', 'ha', 'spécifiques', 'dans', 'précisement', 'premier', 'ait', 'vingt', 'antérieures', 'quelles', 'envers', 'eue', 'aussi', 'parlent', 'maint', 'se', 'nul', 'na', 'ouverte', '', 'sans', 'furent', 'pense', 'sent', 'différentes', '', 'd', 'peut', 'voila', '', 'est', 'il', 'dire', 'quoi', 'la', 'outre', 'leurs', 'y', 'vont', 'près', 'suit', 'j', 'aurions', '', 'ouias', 'pouvait', 'rendre', 'cependant', '', 'possible', 'hem', 'puisque', 'prealable', 'eurent', 'auxquels', 'tels', '', 'plusieurs', 'à', 'ouvert', 'ont', 'quant', 'suivant', 'aurons', 'sont', 'seraient', 'lesquels', 'lès', 's', 'excepté', 'déjà', 'malgre', 'aupres', 'nouveau', '', 'suffisante', 'diverse', 'via', '', 'durant', 'ne', '', 'revoilà', 'maintenant', 'bat', 'miennes', 'faisant', 'votres', 'hou', 'seule', 'soyons', 'parmi', 'personne', 'cet', 'certaines', 'seuls', 'être', 'tienne', 'cinquante', 'rend', 'aurai', 'juste', 'aviez', 'ouvert', 'c', 'sept', 'voici', 'seras', 'peux', 'tellement', 'aies', 'été', 'allons', 'people', 'time', 'end', 'good', 'need', 'start', 'way', 'new', 'was', 'find', 'live', 'years', 'work', 'pa', 'try', 'ask', 'year', 'www', 'like', 'actually', 'look', 'place', 'think', 'month', 'week', 'going', 'http', 'know', 'city', 'https', 'has', 'use', 'lot', 'thing', 'day', 'faire', 'date', 'come', 'want']}\n"
          ]
        }
      ]
    },
    {
      "cell_type": "markdown",
      "source": [
        "# Random Forest\n",
        "Bagging of Decision Trees (Ensemble)"
      ],
      "metadata": {
        "id": "B6BPFQv5gVUB"
      }
    },
    {
      "cell_type": "code",
      "source": [
        "pipe_params = {\n",
        "    \"vect\": [CountVectorizer(analyzer='word', lowercase=True), TfidfVectorizer(analyzer='word', lowercase=True)],\n",
        "    \"vect__binary\": [True, False],\n",
        "    \"vect__stop_words\": [stopwords_list],\n",
        "    \"vect__max_features\": [3000, 6000, 10000],\n",
        "    \"vect__ngram_range\": [(1,1),(1,2),(1,3)],\n",
        "    \"classify__max_depth\" : [None,0,10,20,30,40,50,60,70,80,90,100]\n",
        "}\n",
        "\n",
        "normalizer = Normalizer()\n",
        "RandomForest_model = RandomForestClassifier(n_estimators=100, random_state=0)\n",
        "\n",
        "pipe = Pipeline(\n",
        "    steps = [\n",
        "        (\"vect\", CountVectorizer(analyzer='word', lowercase=True)),\n",
        "        (\"normalizer\", Normalizer()),\n",
        "        (\"classify\", RandomForest_model),\n",
        "         ]\n",
        ")\n",
        "\n",
        "grid = model_selection.GridSearchCV(pipe, pipe_params, verbose=1, n_jobs=-1, cv=10)\n",
        "\n",
        "grid.fit(X_train, y_train)\n",
        "\n",
        "print(f\"The best accuracy is {grid.best_score_}.\")\n",
        "print(f\"The winning parameters are {grid.best_params_}\")"
      ],
      "metadata": {
        "colab": {
          "base_uri": "https://localhost:8080/"
        },
        "id": "tUS9KMaZgZUM",
        "outputId": "1777daf4-65f3-4a66-f2e1-b21b602d34c0"
      },
      "execution_count": null,
      "outputs": [
        {
          "output_type": "stream",
          "name": "stdout",
          "text": [
            "Fitting 10 folds for each of 432 candidates, totalling 4320 fits\n"
          ]
        },
        {
          "output_type": "stream",
          "name": "stderr",
          "text": [
            "/usr/local/lib/python3.10/dist-packages/sklearn/model_selection/_validation.py:378: FitFailedWarning: \n",
            "360 fits failed out of a total of 4320.\n",
            "The score on these train-test partitions for these parameters will be set to nan.\n",
            "If these failures are not expected, you can try to debug them by setting error_score='raise'.\n",
            "\n",
            "Below are more details about the failures:\n",
            "--------------------------------------------------------------------------------\n",
            "360 fits failed with the following error:\n",
            "Traceback (most recent call last):\n",
            "  File \"/usr/local/lib/python3.10/dist-packages/sklearn/model_selection/_validation.py\", line 686, in _fit_and_score\n",
            "    estimator.fit(X_train, y_train, **fit_params)\n",
            "  File \"/usr/local/lib/python3.10/dist-packages/sklearn/pipeline.py\", line 405, in fit\n",
            "    self._final_estimator.fit(Xt, y, **fit_params_last_step)\n",
            "  File \"/usr/local/lib/python3.10/dist-packages/sklearn/ensemble/_forest.py\", line 340, in fit\n",
            "    self._validate_params()\n",
            "  File \"/usr/local/lib/python3.10/dist-packages/sklearn/base.py\", line 600, in _validate_params\n",
            "    validate_parameter_constraints(\n",
            "  File \"/usr/local/lib/python3.10/dist-packages/sklearn/utils/_param_validation.py\", line 97, in validate_parameter_constraints\n",
            "    raise InvalidParameterError(\n",
            "sklearn.utils._param_validation.InvalidParameterError: The 'max_depth' parameter of RandomForestClassifier must be an int in the range [1, inf) or None. Got 0 instead.\n",
            "\n",
            "  warnings.warn(some_fits_failed_message, FitFailedWarning)\n",
            "/usr/local/lib/python3.10/dist-packages/sklearn/model_selection/_search.py:952: UserWarning: One or more of the test scores are non-finite: [0.64928571 0.645      0.655      0.65928571 0.65714286 0.65\n",
            " 0.66071429 0.64714286 0.65       0.66357143 0.65928571 0.65642857\n",
            " 0.65857143 0.65571429 0.65571429 0.65785714 0.66       0.66071429\n",
            " 0.64785714 0.65642857 0.65357143 0.64571429 0.64714286 0.66142857\n",
            " 0.65214286 0.64785714 0.64714286 0.65142857 0.65285714 0.64142857\n",
            " 0.64428571 0.65857143 0.64928571 0.65785714 0.65       0.65214286\n",
            "        nan        nan        nan        nan        nan        nan\n",
            "        nan        nan        nan        nan        nan        nan\n",
            "        nan        nan        nan        nan        nan        nan\n",
            "        nan        nan        nan        nan        nan        nan\n",
            "        nan        nan        nan        nan        nan        nan\n",
            "        nan        nan        nan        nan        nan        nan\n",
            " 0.64142857 0.63071429 0.64857143 0.64714286 0.64642857 0.64428571\n",
            " 0.64714286 0.64071429 0.63928571 0.64642857 0.63428571 0.63928571\n",
            " 0.64571429 0.645      0.64642857 0.655      0.635      0.64214286\n",
            " 0.64071429 0.63071429 0.64857143 0.64       0.63714286 0.64357143\n",
            " 0.64428571 0.63571429 0.63428571 0.645      0.63571429 0.63571429\n",
            " 0.65357143 0.64571429 0.645      0.63571429 0.62642857 0.64142857\n",
            " 0.655      0.64214286 0.65642857 0.66071429 0.64642857 0.65642857\n",
            " 0.64142857 0.65214286 0.645      0.65285714 0.64642857 0.655\n",
            " 0.65357143 0.65785714 0.65142857 0.65857143 0.655      0.64928571\n",
            " 0.65571429 0.645      0.65       0.65214286 0.65142857 0.655\n",
            " 0.65071429 0.65642857 0.64214286 0.65285714 0.65071429 0.64428571\n",
            " 0.64714286 0.655      0.65857143 0.65142857 0.65       0.65214286\n",
            " 0.65785714 0.65142857 0.66       0.65428571 0.65928571 0.65928571\n",
            " 0.65214286 0.65357143 0.66       0.65785714 0.65357143 0.66142857\n",
            " 0.66285714 0.66357143 0.66428571 0.65142857 0.65857143 0.66142857\n",
            " 0.66571429 0.65357143 0.65857143 0.66       0.66       0.65357143\n",
            " 0.655      0.64428571 0.65571429 0.66071429 0.66142857 0.65571429\n",
            " 0.65285714 0.665      0.65357143 0.66642857 0.65857143 0.65857143\n",
            " 0.66928571 0.65857143 0.66214286 0.66642857 0.66571429 0.65928571\n",
            " 0.66285714 0.65571429 0.66428571 0.65285714 0.66071429 0.66571429\n",
            " 0.66642857 0.66428571 0.65928571 0.65714286 0.65714286 0.66642857\n",
            " 0.66       0.655      0.66714286 0.665      0.65642857 0.66857143\n",
            " 0.66142857 0.65571429 0.66       0.66857143 0.65714286 0.66071429\n",
            " 0.66928571 0.66571429 0.65642857 0.66071429 0.66571429 0.65357143\n",
            " 0.665      0.66642857 0.66928571 0.66357143 0.65857143 0.65928571\n",
            " 0.66571429 0.68142857 0.66428571 0.66714286 0.66714286 0.66714286\n",
            " 0.67071429 0.665      0.66928571 0.67571429 0.655      0.66785714\n",
            " 0.67285714 0.66071429 0.66857143 0.66071429 0.66857143 0.66714286\n",
            " 0.65928571 0.66       0.665      0.66357143 0.66571429 0.66642857\n",
            " 0.66428571 0.67642857 0.66142857 0.66       0.66928571 0.66214286\n",
            " 0.66357143 0.66928571 0.66642857 0.66142857 0.67       0.67142857\n",
            " 0.67       0.665      0.67       0.665      0.65928571 0.67\n",
            " 0.66928571 0.665      0.66857143 0.66642857 0.67071429 0.66785714\n",
            " 0.65428571 0.665      0.66642857 0.65357143 0.66928571 0.67142857\n",
            " 0.665      0.66285714 0.66571429 0.66857143 0.67071429 0.66642857\n",
            " 0.67357143 0.66785714 0.65928571 0.67142857 0.66857143 0.66857143\n",
            " 0.67214286 0.665      0.65857143 0.67142857 0.66642857 0.66357143\n",
            " 0.67142857 0.66       0.66       0.66928571 0.66714286 0.67\n",
            " 0.67357143 0.67857143 0.66714286 0.67142857 0.67071429 0.66357143\n",
            " 0.66642857 0.66785714 0.665      0.65142857 0.66785714 0.675\n",
            " 0.67142857 0.65928571 0.66       0.66928571 0.65928571 0.66785714\n",
            " 0.66642857 0.66857143 0.65285714 0.665      0.67285714 0.66642857\n",
            " 0.67428571 0.66357143 0.66642857 0.66285714 0.66       0.66714286\n",
            " 0.66642857 0.66714286 0.66642857 0.67214286 0.66357143 0.67\n",
            " 0.67214286 0.66571429 0.66785714 0.67142857 0.66       0.66785714\n",
            " 0.65714286 0.66714286 0.66214286 0.65785714 0.66642857 0.67642857\n",
            " 0.66214286 0.66357143 0.66142857 0.66785714 0.66285714 0.67214286\n",
            " 0.67071429 0.66714286 0.65428571 0.665      0.66785714 0.66214286\n",
            " 0.66571429 0.65357143 0.66571429 0.67785714 0.66714286 0.66285714\n",
            " 0.67285714 0.66571429 0.66642857 0.67357143 0.66428571 0.66642857\n",
            " 0.65785714 0.65928571 0.67214286 0.67       0.66857143 0.66571429\n",
            " 0.665      0.67571429 0.65428571 0.65714286 0.66142857 0.675\n",
            " 0.66357143 0.66857143 0.66357143 0.675      0.66214286 0.67\n",
            " 0.66571429 0.67571429 0.65714286 0.67071429 0.67285714 0.66714286\n",
            " 0.665      0.65857143 0.66071429 0.67       0.66928571 0.66142857\n",
            " 0.66785714 0.67357143 0.66928571 0.67142857 0.66428571 0.66785714\n",
            " 0.66214286 0.66214286 0.67214286 0.67142857 0.67142857 0.67142857\n",
            " 0.65285714 0.66285714 0.65714286 0.65214286 0.66857143 0.66571429\n",
            " 0.665      0.66285714 0.66428571 0.66785714 0.665      0.67071429\n",
            " 0.675      0.66142857 0.66142857 0.66928571 0.66785714 0.66285714]\n",
            "  warnings.warn(\n"
          ]
        },
        {
          "output_type": "stream",
          "name": "stdout",
          "text": [
            "The best accuracy is 0.6814285714285715.\n",
            "The winning parameters are {'classify__max_depth': 50, 'vect': CountVectorizer(binary=True, max_features=10000, ngram_range=(1, 2),\n",
            "                stop_words=['sometime', '‘ve', 'get', 'don', 'rather',\n",
            "                            'perhaps', 'same', 'and', 'most', \"'m\", 'name',\n",
            "                            'beside', 'from', 'done', 'it', 'isn', 'anything',\n",
            "                            'afterwards', 'two', 'everything', 'n’t', \"hadn't\",\n",
            "                            'full', 'themselves', 'thence', 'nevertheless',\n",
            "                            'out', 'into', 'whether', 'anywhere', ...]), 'vect__binary': True, 'vect__max_features': 10000, 'vect__ngram_range': (1, 2), 'vect__stop_words': ['sometime', '‘ve', 'get', 'don', 'rather', 'perhaps', 'same', 'and', 'most', \"'m\", 'name', 'beside', 'from', 'done', 'it', 'isn', 'anything', 'afterwards', 'two', 'everything', 'n’t', \"hadn't\", 'full', 'themselves', 'thence', 'nevertheless', 'out', 'into', 'whether', 'anywhere', 'make', \"'ve\", 'above', 'we', 'wouldn', 'then', 'put', \"couldn't\", '‘re', 'would', 'do', 'sixty', 'a', 'serious', 'will', 'a', 'thus', '‘s', 'didn', 'one', \"aren't\", 'seems', '‘ll', 'he', '‘m', 'never', 'latter', 'hereafter', 'also', 'how', 'using', 'ha', 'my', 'although', 'whereby', 'without', 'that', 'amount', 'myself', 'm', 'hereupon', 'toward', 'twelve', 'u', 'you', 'having', 'four', \"it's\", 'on', \"won't\", 'nothing', 'won', 'beforehand', 'alone', 'moreover', 'are', 'no', 'give', 'doing', 'however', 'become', 'by', 'hadn', 'hereby', 'unless', 'with', 'call', \"n't\", 'very', 'became', 'than', 'mightn', 'used', 'somehow', 'just', \"'d\", 'fifteen', 'am', 'bottom', 'y', 'something', 'should', \"needn't\", 'formerly', 'whereafter', 'before', 'everywhere', 'third', 'few', 'have', \"haven't\", 'these', 'hence', 'hers', 'behind', 'n‘t', 'five', 'becomes', 'weren', 'if', 'still', \"mightn't\", 'had', \"shouldn't\", 'part', \"you've\", '‘d', 'every', 'haven', 'only', 'somewhere', 'except', 'me', 'both', 'own', 'ma', 'when', 'himself', 'couldn', 'much', 'up', \"that'll\", 'be', 'beyond', 'too', 'an', 'so', 'him', 'between', 'doesn', 'her', 'all', 'say', 'the', 'o', 'them', 'keep', 'namely', \"mustn't\", 'front', 'shouldn', 'doe', \"wasn't\", 'again', 'often', 'why', 'under', 'well', 'off', \"'s\", \"you're\", 'ain', \"hasn't\", 'various', 'within', 'others', 'but', 'mostly', 'always', 'fifty', 'first', 'it', 'below', 'such', 'latterly', 'former', 'back', 'this', 'those', 'she', 's', 'therein', 'side', 'sometimes', 'becoming', 'were', 'against', 'might', 'indeed', 'else', 'empty', 'least', 'thru', 'ourselves', 'noone', 'last', 'must', 'nor', 'really', 'our', 'amongst', 'move', 'eleven', 'hundred', 'along', \"isn't\", 'everyone', 'whither', 'whenever', 'to', 'many', 'ten', 'three', 'each', 'quite', 'wa', 'around', 'anyway', 'further', 'who', 'seem', 'ours', 'their', \"shan't\", 'whom', 'either', 'whatever', 'wherever', 'needn', 'here', \"'re\", 'go', \"wouldn't\", 'regarding', 'over', 'thereupon', 'about', 'while', 'whoever', 'per', 'now', 'i', 'twenty', 'whereupon', 'elsewhere', 'other', 'mine', 'see', '’d', 'd', 'at', '’re', 'which', 'mustn', 'throughout', 'yet', 'cannot', 'meanwhile', 'already', 'aren', 'among', 'is', 'hasn', 'because', 'le', 'nowhere', 'not', 'until', 'anyone', 'yourself', 'once', 'ca', 'therefore', 'could', 'since', 'seemed', 'next', 'wherein', 'nine', 'where', \"weren't\", \"'ll\", 'another', \"you'll\", \"doesn't\", '’m', \"didn't\", 'nobody', 'whence', 'take', 'forty', 'top', 'herein', 'even', 'someone', 'more', '’s', 'did', 'or', 'yours', '’ll', 't', 'upon', 'please', 've', 'what', 'his', 'whose', 'seeming', 'some', 'your', \"she's\", 'll', 'may', 'enough', 'made', 'show', 'though', \"don't\", 'six', 'itself', 'otherwise', 'almost', 'through', 'anyhow', 'wasn', 'theirs', 'yourselves', 'via', 'besides', 'whereas', 'thereafter', 'they', 'across', 'towards', 'ever', 'none', 'been', '’ve', 'after', \"you'd\", 'down', 'due', 'in', 'whole', 'for', 'onto', 'there', 'together', \"should've\", 'being', 'neither', 'can', 'shan', 'any', 'during', 're', 'eight', 'herself', 'of', 'several', 'thereby', 'soi', 'sait', 'tenant', 'différent', 'eûmes', 'malgre', 'aurions', 'toi', 'miennes', 'sent', 'ah', 'auraient', 't', 'quatorze', 'eussiez', 'première', 'vôtre', 'doivent', 'excepté', 'seras', '', 'rend', 'compris', 'à', 'ça', 'aurez', 'était', 'â', 'ayants', 'etaient', 'n', 'dit', 'entre', 'l', 'semblent', 'avez', 'devers', 'vous', 'qui', 'que', 'tout', 'toujours', 'par', 'dehors', 'surtout', 'qu', 'desquelles', 'aurais', 'j', 'ayante', 'quelle', 'vais', 'certain', '', 'quoi', 'gens', 'a', 'quarante', 'nous', 'dans', 'plusieurs', 'as', 'mien', 'siennes', 'septième', 'té', '', 'étai', 'une', 'c', '', 'allons', 'laquelle', 'nombreux', 'mille', 'se', '', 'chacun', '', 'tres', '', 'memes', 'faisant', 'où', 'meme', 'puisque', 'sans', 'précisement', 'nôtre', 'différentes', 'serait', 'diverse', 'differents', 'sienne', 't', 'directe', 'parler', 'suivant', 'sa', 'neuvième', 'mes', 'tien', 'autre', 'tend', 'chacune', 'encore', 'autres', 'puis', 'm', 'autrement', 'quelles', 'retour', 'proche', 'avaient', '', 'derriere', 'certaine', 'deuxièmement', 'étante', 'nouveau', 'eusse', 'desquels', 'parle', 'aussi', 'debout', 'ha', 'vé', 'duquel', '', 'environ', 'prealable', '', 'ci', 'dès', 'les', 'soixante', 'déjà', 'on', 'avoir', 'étantes', 'depuis', 'differentes', 'furent', 'fûmes', 'm', 'envers', 'antérieure', 'suivre', 'cette', 'tel', 'sous', 'laisser', 'etant', 'combien', 'hors', 'ceux', 'semble', 'auriez', 'tels', 'quiconque', 'fais', 'aviez', 'douzième', 'lui', 'auxquels', 'êtes', 'du', 'd', 'sauf', 'dessus', 'auquel', 'basee', 'toute', 'y', 'na', 'serais', 'eues', 'aux', 'douze', 'spécifique', 'avant', 'houp', 'je', 'font', 'ait', 'été', 'dixième', 'lesquelles', 'qu', 'seule', 'ouvert', '', 'avec', 'celle', 'seriez', 'ton', 'troisième', 'désormais', 'car', 'aurai', 'cinquante', 'ouias', '', 'notre', 'spécifiques', 'un', 'ouvert', 'facon', 'certes', 'te', 'me', 'da', 'ayantes', 'soyez', 'eûtes', 'suit', 'j', 'suffit', 'cent', 'ma', 'vingt', 'c', 'anterieure', 'tout', 'ouverte', 'tente', 'tu', 'vos', 's', 'quoique', 'telle', '', 'l', 'voici', 'eurent', 'eusses', 'ni', 'certain', 'tes', 'suivant', 'cinquantaine', '', '', 'dix', '', '', 'hou', 'afin', '', 'aient', 'elle', 'quels', 'importe', 'premièrement', 'vont', 'auxquelles', 'nos', 'avion', 'ou', 'possibles', '', 'sur', 'o', 'tiennes', 'serions', 'etait', 'ayez', 'semblaient', 'cinquantième', 'va', 'pourrais', 'pres', 'été', '', 'touchant', 'également', 'souvent', 'différent', 'dit', 'qu', 'serez', 'hep', 'onze', 'relative', 'parfois', 'fait', 'rendre', 'anterieures', 'ses', 'ayons', 'neanmoins', 'eut', 'donc', 'etais', 'serai', '', 'suffisante', 'dejà', 'directement', 'somme', 'lorsque', 'antérieures', 'm', 'son', 'près', 'maint', 'leurs', 'devra', 'votres', 'nul', 'comment', 'divers', 'pendant', 'lequel', 's', 'voila', 'hi', 'quatre', 'quel', 'il', 'merci', 'sien', 'attendu', 'peux', 'eh', 'enfin', 'revoila', 'ils', 'specifique', '', 'exactement', 'onzième', 'desormais', 'parlent', 'nombreuses', 'etre', 'sera', 'est', 'differente', 'avons', 'deux', 'ouste', 'possible', 'très', 'différente', 'pour', 'soi', 'procedant', 'la', 'malgré', 'quelque', 'alors', '', 'seules', 'hem', 'seraient', 'stop', 'tant', 'sinon', 'fus', 'ô', 'étant', 'allaient', 'eu', '', 'mien', 'personne', '', 'votre', 'cependant', 'moindres', 'trois', 'notamment', 'serons', 'voilà', 'peuvent', 'plutôt', 'devant', 'j', 'étaient', 'ès', 'étant', 'vas', 'comme', 'restent', '', 'préalable', 'avais', 'hé', 'leur', 'treize', 's', 'eussions', 'des', 'longtemps', 'fut', 'parce', 'c', 'fusses', 'après', 'egalement', 'i', 'suivant', '', 'elles', 'huitième', 'ce', 'eue', 'bas', 'tenir', 'hue', 'quelques', 'mon', 'fussions', 'deuxième', 'pu', 'n', 'd', 'ho', 'es', 'sont', 'en', 'quelconque', 'aies', 'façon', 'premier', 'mienne', 'plus', 'moins', 'precisement', '', 'mai', 'seize', 'soient', 'aie', 'derrière', 'aurons', 'troisièmement', 'lès', 'aura', 'au', 'dessous', 'jusqu', 'là', 'et', 'telles', 'seuls', 'apres', 'dont', 'celles', 'pas', 'soyons', 'pense', 'revoici', 'selon', 'juste', 'outre', 'tienne', 'l', '', 'néanmoins', 'peut', 'antérieur', 'seront', 'seulement', 'tien', 'effet', 'fûtes', 'specifiques', 'vu', 'semblable', 'ai', 'delà', 'dire', 'faisaient', 'durant', 'reste', 'suffisant', 'toutes', 'avait', 'même', '', 'or', 'deja', 't', 'peu', '', 'trente', 'sixième', 'n', 'relativement', 'lesquels', 'le', 'pourquoi', 'chaque', 'étée', 'maintenant', 'ces', 'cet', 'hormis', 'plutot', 'quatrièmement', 'auront', 'fussent', 'bat', 'suis', 'doit', 'six', 'cinquième', 'hui', 'certaines', 'cela', 'ayant', 'abord', 'eût', 'quand', 'déja', 'concernant', 'étions', 'permet', 'fusse', 'sien', 'jusque', 'restant', 'aurait', 'eussent', 'ceci', 'quant', 'huit', 'ta', 'cinq', 'via', 'different', '', 'revoilà', 'soit', 'dite', 'fussiez', 'ont', 'eus', 'tellement', 'vôtre', 'fût', 'feront', 'étiez', 'nôtre', 'étées', 'eux', 'celui', 'quatrième', 'pouvait', 'parmi', 'dedans', 'suivant', 'chez', 'anterieur', 'ne', 'partant', 'autrui', 'aupres', 'd', 'même', 'un', 'diverses', 'une', 'aura', 'sept', 'ainsi', 'ver', 'moi', 'être', 'lors', 'seul', 'etc', 'de', 'si', 'quinze', 'assez', 'pourrait', 'actually', 'find', 'week', 'know', 'live', 'was', 'need', 'way', 'start', 'day', 'www', 'like', 'month', 'good', 'new', 'years', 'http', 'try', 'thing', 'pa', 'look', 'people', 'https', 'date', 'going', 'year', 'city', 'place', 'think', 'has', 'work', 'time', 'use', 'lot', 'come', 'want', 'ask', 'faire', 'end']}\n"
          ]
        }
      ]
    },
    {
      "cell_type": "markdown",
      "source": [
        "# KNN"
      ],
      "metadata": {
        "id": "pOWsNqjMmV9Y"
      }
    },
    {
      "cell_type": "code",
      "source": [
        "pipe_params = {\n",
        "    \"vect\": [CountVectorizer(analyzer='word', lowercase=True), TfidfVectorizer(analyzer='word', lowercase=True)],\n",
        "    \"vect__binary\": [True, False],\n",
        "    \"vect__stop_words\": [stopwords_list],\n",
        "    \"vect__max_features\": [3000, 6000, 10000],\n",
        "    \"vect__ngram_range\": [(1,1),(1,2),(1,3)],\n",
        "    \"classify__n_neighbors\" : np.arange(10,150,10)\n",
        "}\n",
        "\n",
        "normalizer = Normalizer()\n",
        "KNN_model = KNeighborsClassifier()\n",
        "\n",
        "pipe = Pipeline(\n",
        "    steps = [\n",
        "        (\"vect\", CountVectorizer(analyzer='word', lowercase=True)),\n",
        "        (\"normalizer\", Normalizer()),\n",
        "        (\"classify\", KNN_model),\n",
        "         ]\n",
        ")\n",
        "\n",
        "grid = model_selection.GridSearchCV(pipe, pipe_params, verbose=1, n_jobs=-1, cv=10)\n",
        "\n",
        "grid.fit(X_train, y_train)\n",
        "\n",
        "print(f\"The best accuracy is {grid.best_score_}.\")\n",
        "print(f\"The winning parameters are {grid.best_params_}\")"
      ],
      "metadata": {
        "colab": {
          "base_uri": "https://localhost:8080/"
        },
        "id": "13FHN22omXHR",
        "outputId": "dab3f948-c5fc-470c-b101-fad805dad890"
      },
      "execution_count": null,
      "outputs": [
        {
          "output_type": "stream",
          "name": "stdout",
          "text": [
            "Fitting 10 folds for each of 504 candidates, totalling 5040 fits\n",
            "The best accuracy is 0.6478571428571429.\n",
            "The winning parameters are {'classify__n_neighbors': 20, 'vect': TfidfVectorizer(max_features=10000, ngram_range=(1, 3),\n",
            "                stop_words=['sometime', '‘ve', 'get', 'don', 'rather',\n",
            "                            'perhaps', 'same', 'and', 'most', \"'m\", 'name',\n",
            "                            'beside', 'from', 'done', 'it', 'isn', 'anything',\n",
            "                            'afterwards', 'two', 'everything', 'n’t', \"hadn't\",\n",
            "                            'full', 'themselves', 'thence', 'nevertheless',\n",
            "                            'out', 'into', 'whether', 'anywhere', ...]), 'vect__binary': False, 'vect__max_features': 10000, 'vect__ngram_range': (1, 3), 'vect__stop_words': ['sometime', '‘ve', 'get', 'don', 'rather', 'perhaps', 'same', 'and', 'most', \"'m\", 'name', 'beside', 'from', 'done', 'it', 'isn', 'anything', 'afterwards', 'two', 'everything', 'n’t', \"hadn't\", 'full', 'themselves', 'thence', 'nevertheless', 'out', 'into', 'whether', 'anywhere', 'make', \"'ve\", 'above', 'we', 'wouldn', 'then', 'put', \"couldn't\", '‘re', 'would', 'do', 'sixty', 'a', 'serious', 'will', 'a', 'thus', '‘s', 'didn', 'one', \"aren't\", 'seems', '‘ll', 'he', '‘m', 'never', 'latter', 'hereafter', 'also', 'how', 'using', 'ha', 'my', 'although', 'whereby', 'without', 'that', 'amount', 'myself', 'm', 'hereupon', 'toward', 'twelve', 'u', 'you', 'having', 'four', \"it's\", 'on', \"won't\", 'nothing', 'won', 'beforehand', 'alone', 'moreover', 'are', 'no', 'give', 'doing', 'however', 'become', 'by', 'hadn', 'hereby', 'unless', 'with', 'call', \"n't\", 'very', 'became', 'than', 'mightn', 'used', 'somehow', 'just', \"'d\", 'fifteen', 'am', 'bottom', 'y', 'something', 'should', \"needn't\", 'formerly', 'whereafter', 'before', 'everywhere', 'third', 'few', 'have', \"haven't\", 'these', 'hence', 'hers', 'behind', 'n‘t', 'five', 'becomes', 'weren', 'if', 'still', \"mightn't\", 'had', \"shouldn't\", 'part', \"you've\", '‘d', 'every', 'haven', 'only', 'somewhere', 'except', 'me', 'both', 'own', 'ma', 'when', 'himself', 'couldn', 'much', 'up', \"that'll\", 'be', 'beyond', 'too', 'an', 'so', 'him', 'between', 'doesn', 'her', 'all', 'say', 'the', 'o', 'them', 'keep', 'namely', \"mustn't\", 'front', 'shouldn', 'doe', \"wasn't\", 'again', 'often', 'why', 'under', 'well', 'off', \"'s\", \"you're\", 'ain', \"hasn't\", 'various', 'within', 'others', 'but', 'mostly', 'always', 'fifty', 'first', 'it', 'below', 'such', 'latterly', 'former', 'back', 'this', 'those', 'she', 's', 'therein', 'side', 'sometimes', 'becoming', 'were', 'against', 'might', 'indeed', 'else', 'empty', 'least', 'thru', 'ourselves', 'noone', 'last', 'must', 'nor', 'really', 'our', 'amongst', 'move', 'eleven', 'hundred', 'along', \"isn't\", 'everyone', 'whither', 'whenever', 'to', 'many', 'ten', 'three', 'each', 'quite', 'wa', 'around', 'anyway', 'further', 'who', 'seem', 'ours', 'their', \"shan't\", 'whom', 'either', 'whatever', 'wherever', 'needn', 'here', \"'re\", 'go', \"wouldn't\", 'regarding', 'over', 'thereupon', 'about', 'while', 'whoever', 'per', 'now', 'i', 'twenty', 'whereupon', 'elsewhere', 'other', 'mine', 'see', '’d', 'd', 'at', '’re', 'which', 'mustn', 'throughout', 'yet', 'cannot', 'meanwhile', 'already', 'aren', 'among', 'is', 'hasn', 'because', 'le', 'nowhere', 'not', 'until', 'anyone', 'yourself', 'once', 'ca', 'therefore', 'could', 'since', 'seemed', 'next', 'wherein', 'nine', 'where', \"weren't\", \"'ll\", 'another', \"you'll\", \"doesn't\", '’m', \"didn't\", 'nobody', 'whence', 'take', 'forty', 'top', 'herein', 'even', 'someone', 'more', '’s', 'did', 'or', 'yours', '’ll', 't', 'upon', 'please', 've', 'what', 'his', 'whose', 'seeming', 'some', 'your', \"she's\", 'll', 'may', 'enough', 'made', 'show', 'though', \"don't\", 'six', 'itself', 'otherwise', 'almost', 'through', 'anyhow', 'wasn', 'theirs', 'yourselves', 'via', 'besides', 'whereas', 'thereafter', 'they', 'across', 'towards', 'ever', 'none', 'been', '’ve', 'after', \"you'd\", 'down', 'due', 'in', 'whole', 'for', 'onto', 'there', 'together', \"should've\", 'being', 'neither', 'can', 'shan', 'any', 'during', 're', 'eight', 'herself', 'of', 'several', 'thereby', 'soi', 'sait', 'tenant', 'différent', 'eûmes', 'malgre', 'aurions', 'toi', 'miennes', 'sent', 'ah', 'auraient', 't', 'quatorze', 'eussiez', 'première', 'vôtre', 'doivent', 'excepté', 'seras', '', 'rend', 'compris', 'à', 'ça', 'aurez', 'était', 'â', 'ayants', 'etaient', 'n', 'dit', 'entre', 'l', 'semblent', 'avez', 'devers', 'vous', 'qui', 'que', 'tout', 'toujours', 'par', 'dehors', 'surtout', 'qu', 'desquelles', 'aurais', 'j', 'ayante', 'quelle', 'vais', 'certain', '', 'quoi', 'gens', 'a', 'quarante', 'nous', 'dans', 'plusieurs', 'as', 'mien', 'siennes', 'septième', 'té', '', 'étai', 'une', 'c', '', 'allons', 'laquelle', 'nombreux', 'mille', 'se', '', 'chacun', '', 'tres', '', 'memes', 'faisant', 'où', 'meme', 'puisque', 'sans', 'précisement', 'nôtre', 'différentes', 'serait', 'diverse', 'differents', 'sienne', 't', 'directe', 'parler', 'suivant', 'sa', 'neuvième', 'mes', 'tien', 'autre', 'tend', 'chacune', 'encore', 'autres', 'puis', 'm', 'autrement', 'quelles', 'retour', 'proche', 'avaient', '', 'derriere', 'certaine', 'deuxièmement', 'étante', 'nouveau', 'eusse', 'desquels', 'parle', 'aussi', 'debout', 'ha', 'vé', 'duquel', '', 'environ', 'prealable', '', 'ci', 'dès', 'les', 'soixante', 'déjà', 'on', 'avoir', 'étantes', 'depuis', 'differentes', 'furent', 'fûmes', 'm', 'envers', 'antérieure', 'suivre', 'cette', 'tel', 'sous', 'laisser', 'etant', 'combien', 'hors', 'ceux', 'semble', 'auriez', 'tels', 'quiconque', 'fais', 'aviez', 'douzième', 'lui', 'auxquels', 'êtes', 'du', 'd', 'sauf', 'dessus', 'auquel', 'basee', 'toute', 'y', 'na', 'serais', 'eues', 'aux', 'douze', 'spécifique', 'avant', 'houp', 'je', 'font', 'ait', 'été', 'dixième', 'lesquelles', 'qu', 'seule', 'ouvert', '', 'avec', 'celle', 'seriez', 'ton', 'troisième', 'désormais', 'car', 'aurai', 'cinquante', 'ouias', '', 'notre', 'spécifiques', 'un', 'ouvert', 'facon', 'certes', 'te', 'me', 'da', 'ayantes', 'soyez', 'eûtes', 'suit', 'j', 'suffit', 'cent', 'ma', 'vingt', 'c', 'anterieure', 'tout', 'ouverte', 'tente', 'tu', 'vos', 's', 'quoique', 'telle', '', 'l', 'voici', 'eurent', 'eusses', 'ni', 'certain', 'tes', 'suivant', 'cinquantaine', '', '', 'dix', '', '', 'hou', 'afin', '', 'aient', 'elle', 'quels', 'importe', 'premièrement', 'vont', 'auxquelles', 'nos', 'avion', 'ou', 'possibles', '', 'sur', 'o', 'tiennes', 'serions', 'etait', 'ayez', 'semblaient', 'cinquantième', 'va', 'pourrais', 'pres', 'été', '', 'touchant', 'également', 'souvent', 'différent', 'dit', 'qu', 'serez', 'hep', 'onze', 'relative', 'parfois', 'fait', 'rendre', 'anterieures', 'ses', 'ayons', 'neanmoins', 'eut', 'donc', 'etais', 'serai', '', 'suffisante', 'dejà', 'directement', 'somme', 'lorsque', 'antérieures', 'm', 'son', 'près', 'maint', 'leurs', 'devra', 'votres', 'nul', 'comment', 'divers', 'pendant', 'lequel', 's', 'voila', 'hi', 'quatre', 'quel', 'il', 'merci', 'sien', 'attendu', 'peux', 'eh', 'enfin', 'revoila', 'ils', 'specifique', '', 'exactement', 'onzième', 'desormais', 'parlent', 'nombreuses', 'etre', 'sera', 'est', 'differente', 'avons', 'deux', 'ouste', 'possible', 'très', 'différente', 'pour', 'soi', 'procedant', 'la', 'malgré', 'quelque', 'alors', '', 'seules', 'hem', 'seraient', 'stop', 'tant', 'sinon', 'fus', 'ô', 'étant', 'allaient', 'eu', '', 'mien', 'personne', '', 'votre', 'cependant', 'moindres', 'trois', 'notamment', 'serons', 'voilà', 'peuvent', 'plutôt', 'devant', 'j', 'étaient', 'ès', 'étant', 'vas', 'comme', 'restent', '', 'préalable', 'avais', 'hé', 'leur', 'treize', 's', 'eussions', 'des', 'longtemps', 'fut', 'parce', 'c', 'fusses', 'après', 'egalement', 'i', 'suivant', '', 'elles', 'huitième', 'ce', 'eue', 'bas', 'tenir', 'hue', 'quelques', 'mon', 'fussions', 'deuxième', 'pu', 'n', 'd', 'ho', 'es', 'sont', 'en', 'quelconque', 'aies', 'façon', 'premier', 'mienne', 'plus', 'moins', 'precisement', '', 'mai', 'seize', 'soient', 'aie', 'derrière', 'aurons', 'troisièmement', 'lès', 'aura', 'au', 'dessous', 'jusqu', 'là', 'et', 'telles', 'seuls', 'apres', 'dont', 'celles', 'pas', 'soyons', 'pense', 'revoici', 'selon', 'juste', 'outre', 'tienne', 'l', '', 'néanmoins', 'peut', 'antérieur', 'seront', 'seulement', 'tien', 'effet', 'fûtes', 'specifiques', 'vu', 'semblable', 'ai', 'delà', 'dire', 'faisaient', 'durant', 'reste', 'suffisant', 'toutes', 'avait', 'même', '', 'or', 'deja', 't', 'peu', '', 'trente', 'sixième', 'n', 'relativement', 'lesquels', 'le', 'pourquoi', 'chaque', 'étée', 'maintenant', 'ces', 'cet', 'hormis', 'plutot', 'quatrièmement', 'auront', 'fussent', 'bat', 'suis', 'doit', 'six', 'cinquième', 'hui', 'certaines', 'cela', 'ayant', 'abord', 'eût', 'quand', 'déja', 'concernant', 'étions', 'permet', 'fusse', 'sien', 'jusque', 'restant', 'aurait', 'eussent', 'ceci', 'quant', 'huit', 'ta', 'cinq', 'via', 'different', '', 'revoilà', 'soit', 'dite', 'fussiez', 'ont', 'eus', 'tellement', 'vôtre', 'fût', 'feront', 'étiez', 'nôtre', 'étées', 'eux', 'celui', 'quatrième', 'pouvait', 'parmi', 'dedans', 'suivant', 'chez', 'anterieur', 'ne', 'partant', 'autrui', 'aupres', 'd', 'même', 'un', 'diverses', 'une', 'aura', 'sept', 'ainsi', 'ver', 'moi', 'être', 'lors', 'seul', 'etc', 'de', 'si', 'quinze', 'assez', 'pourrait', 'actually', 'find', 'week', 'know', 'live', 'was', 'need', 'way', 'start', 'day', 'www', 'like', 'month', 'good', 'new', 'years', 'http', 'try', 'thing', 'pa', 'look', 'people', 'https', 'date', 'going', 'year', 'city', 'place', 'think', 'has', 'work', 'time', 'use', 'lot', 'come', 'want', 'ask', 'faire', 'end']}\n"
          ]
        }
      ]
    },
    {
      "cell_type": "markdown",
      "source": [
        "# Ensemble Stacking"
      ],
      "metadata": {
        "id": "R8oSBACRqG5P"
      }
    },
    {
      "cell_type": "code",
      "source": [
        "# emsemble\n",
        "from sklearn.ensemble import VotingClassifier\n",
        "from sklearn.ensemble import BaggingClassifier\n",
        "from sklearn.ensemble import StackingClassifier\n",
        "vectorizer = TfidfVectorizer(analyzer='word', lowercase=True, binary=False, max_features=10000, ngram_range=(1,1),stop_words=stopwords_list)\n",
        "vec_X_train = np.asarray(vectorizer.fit_transform(X_train).todense())\n",
        "vec_X_test = np.asarray(vectorizer.transform(X_test).todense())\n",
        "encoded_y_train\n",
        "clf1 = LogisticRegression(max_iter=1000, C=10)\n",
        "clf2 = LinearSVC(C = 1)\n",
        "clf3 = RandomForestClassifier(n_estimators=100, random_state=0, max_depth=50)\n",
        "\n",
        "eclf1 = StackingClassifier(estimators=[\n",
        "        ('svm', clf2), ('lr', clf1), ('rf', clf3)])\n",
        "\n",
        "start = time.time()\n",
        "cv_results = cross_validate(eclf1, vec_X_train, encoded_y_train, cv=10, return_train_score=True)\n",
        "end = time.time()\n",
        "\n",
        "print(\"cross validated training accuracy: \" + str(cv_results['train_score'].mean()))\n",
        "print(\"cross validated validation accuracy: \" + str(cv_results['test_score'].mean()))"
      ],
      "metadata": {
        "colab": {
          "base_uri": "https://localhost:8080/"
        },
        "id": "SqsRX2lwkaBv",
        "outputId": "f3b5cc9b-3f5f-4830-a579-a88ca018291c"
      },
      "execution_count": null,
      "outputs": [
        {
          "output_type": "stream",
          "name": "stdout",
          "text": [
            "cross validated training accuracy: 0.9992857142857143\n",
            "cross validated validation accuracy: 0.7407142857142858\n"
          ]
        }
      ]
    },
    {
      "cell_type": "markdown",
      "source": [
        "Kaggle Test"
      ],
      "metadata": {
        "id": "bN-8133uUU42"
      }
    },
    {
      "cell_type": "code",
      "source": [
        "eclf1.fit(vec_X_train,encoded_y_train)\n",
        "\n",
        "y_test_Ensemble_Stacking = eclf1.predict(vec_X_test)\n",
        "\n",
        "id_data = list(range(len(y_test_Ensemble_Stacking)))\n",
        "output = pd.DataFrame({'id':id_data, 'subreddit':y_test_Ensemble_Stacking})\n",
        "output.to_csv('/content/drive/MyDrive/Colab Notebooks/ECSE551 Machine Learning for Engineers/project2/test_prediction/test_prediction_Ensemble_Stacking_20240319.csv',index=False)"
      ],
      "metadata": {
        "id": "s6DHiJLRTUL0"
      },
      "execution_count": null,
      "outputs": []
    },
    {
      "cell_type": "code",
      "source": [
        "test_prediction_Ensemble_Stacking_20240319 = pd.read_csv('/content/drive/MyDrive/Colab Notebooks/ECSE551 Machine Learning for Engineers/project2/test_prediction/test_prediction_Ensemble_Stacking_20240319.csv')\n"
      ],
      "metadata": {
        "colab": {
          "base_uri": "https://localhost:8080/",
          "height": 424
        },
        "id": "DaX6f8OcUls4",
        "outputId": "cbcec9e2-d9ae-4614-d4bb-b9762da953f9"
      },
      "execution_count": null,
      "outputs": [
        {
          "output_type": "execute_result",
          "data": {
            "text/plain": [
              "      id  subreddit\n",
              "0      0          0\n",
              "1      1          0\n",
              "2      2          0\n",
              "3      3          1\n",
              "4      4          2\n",
              "..   ...        ...\n",
              "595  595          3\n",
              "596  596          0\n",
              "597  597          3\n",
              "598  598          0\n",
              "599  599          0\n",
              "\n",
              "[600 rows x 2 columns]"
            ],
            "text/html": [
              "\n",
              "  <div id=\"df-5dad328b-e82f-4383-a353-45a2bea9a796\" class=\"colab-df-container\">\n",
              "    <div>\n",
              "<style scoped>\n",
              "    .dataframe tbody tr th:only-of-type {\n",
              "        vertical-align: middle;\n",
              "    }\n",
              "\n",
              "    .dataframe tbody tr th {\n",
              "        vertical-align: top;\n",
              "    }\n",
              "\n",
              "    .dataframe thead th {\n",
              "        text-align: right;\n",
              "    }\n",
              "</style>\n",
              "<table border=\"1\" class=\"dataframe\">\n",
              "  <thead>\n",
              "    <tr style=\"text-align: right;\">\n",
              "      <th></th>\n",
              "      <th>id</th>\n",
              "      <th>subreddit</th>\n",
              "    </tr>\n",
              "  </thead>\n",
              "  <tbody>\n",
              "    <tr>\n",
              "      <th>0</th>\n",
              "      <td>0</td>\n",
              "      <td>0</td>\n",
              "    </tr>\n",
              "    <tr>\n",
              "      <th>1</th>\n",
              "      <td>1</td>\n",
              "      <td>0</td>\n",
              "    </tr>\n",
              "    <tr>\n",
              "      <th>2</th>\n",
              "      <td>2</td>\n",
              "      <td>0</td>\n",
              "    </tr>\n",
              "    <tr>\n",
              "      <th>3</th>\n",
              "      <td>3</td>\n",
              "      <td>1</td>\n",
              "    </tr>\n",
              "    <tr>\n",
              "      <th>4</th>\n",
              "      <td>4</td>\n",
              "      <td>2</td>\n",
              "    </tr>\n",
              "    <tr>\n",
              "      <th>...</th>\n",
              "      <td>...</td>\n",
              "      <td>...</td>\n",
              "    </tr>\n",
              "    <tr>\n",
              "      <th>595</th>\n",
              "      <td>595</td>\n",
              "      <td>3</td>\n",
              "    </tr>\n",
              "    <tr>\n",
              "      <th>596</th>\n",
              "      <td>596</td>\n",
              "      <td>0</td>\n",
              "    </tr>\n",
              "    <tr>\n",
              "      <th>597</th>\n",
              "      <td>597</td>\n",
              "      <td>3</td>\n",
              "    </tr>\n",
              "    <tr>\n",
              "      <th>598</th>\n",
              "      <td>598</td>\n",
              "      <td>0</td>\n",
              "    </tr>\n",
              "    <tr>\n",
              "      <th>599</th>\n",
              "      <td>599</td>\n",
              "      <td>0</td>\n",
              "    </tr>\n",
              "  </tbody>\n",
              "</table>\n",
              "<p>600 rows × 2 columns</p>\n",
              "</div>\n",
              "    <div class=\"colab-df-buttons\">\n",
              "\n",
              "  <div class=\"colab-df-container\">\n",
              "    <button class=\"colab-df-convert\" onclick=\"convertToInteractive('df-5dad328b-e82f-4383-a353-45a2bea9a796')\"\n",
              "            title=\"Convert this dataframe to an interactive table.\"\n",
              "            style=\"display:none;\">\n",
              "\n",
              "  <svg xmlns=\"http://www.w3.org/2000/svg\" height=\"24px\" viewBox=\"0 -960 960 960\">\n",
              "    <path d=\"M120-120v-720h720v720H120Zm60-500h600v-160H180v160Zm220 220h160v-160H400v160Zm0 220h160v-160H400v160ZM180-400h160v-160H180v160Zm440 0h160v-160H620v160ZM180-180h160v-160H180v160Zm440 0h160v-160H620v160Z\"/>\n",
              "  </svg>\n",
              "    </button>\n",
              "\n",
              "  <style>\n",
              "    .colab-df-container {\n",
              "      display:flex;\n",
              "      gap: 12px;\n",
              "    }\n",
              "\n",
              "    .colab-df-convert {\n",
              "      background-color: #E8F0FE;\n",
              "      border: none;\n",
              "      border-radius: 50%;\n",
              "      cursor: pointer;\n",
              "      display: none;\n",
              "      fill: #1967D2;\n",
              "      height: 32px;\n",
              "      padding: 0 0 0 0;\n",
              "      width: 32px;\n",
              "    }\n",
              "\n",
              "    .colab-df-convert:hover {\n",
              "      background-color: #E2EBFA;\n",
              "      box-shadow: 0px 1px 2px rgba(60, 64, 67, 0.3), 0px 1px 3px 1px rgba(60, 64, 67, 0.15);\n",
              "      fill: #174EA6;\n",
              "    }\n",
              "\n",
              "    .colab-df-buttons div {\n",
              "      margin-bottom: 4px;\n",
              "    }\n",
              "\n",
              "    [theme=dark] .colab-df-convert {\n",
              "      background-color: #3B4455;\n",
              "      fill: #D2E3FC;\n",
              "    }\n",
              "\n",
              "    [theme=dark] .colab-df-convert:hover {\n",
              "      background-color: #434B5C;\n",
              "      box-shadow: 0px 1px 3px 1px rgba(0, 0, 0, 0.15);\n",
              "      filter: drop-shadow(0px 1px 2px rgba(0, 0, 0, 0.3));\n",
              "      fill: #FFFFFF;\n",
              "    }\n",
              "  </style>\n",
              "\n",
              "    <script>\n",
              "      const buttonEl =\n",
              "        document.querySelector('#df-5dad328b-e82f-4383-a353-45a2bea9a796 button.colab-df-convert');\n",
              "      buttonEl.style.display =\n",
              "        google.colab.kernel.accessAllowed ? 'block' : 'none';\n",
              "\n",
              "      async function convertToInteractive(key) {\n",
              "        const element = document.querySelector('#df-5dad328b-e82f-4383-a353-45a2bea9a796');\n",
              "        const dataTable =\n",
              "          await google.colab.kernel.invokeFunction('convertToInteractive',\n",
              "                                                    [key], {});\n",
              "        if (!dataTable) return;\n",
              "\n",
              "        const docLinkHtml = 'Like what you see? Visit the ' +\n",
              "          '<a target=\"_blank\" href=https://colab.research.google.com/notebooks/data_table.ipynb>data table notebook</a>'\n",
              "          + ' to learn more about interactive tables.';\n",
              "        element.innerHTML = '';\n",
              "        dataTable['output_type'] = 'display_data';\n",
              "        await google.colab.output.renderOutput(dataTable, element);\n",
              "        const docLink = document.createElement('div');\n",
              "        docLink.innerHTML = docLinkHtml;\n",
              "        element.appendChild(docLink);\n",
              "      }\n",
              "    </script>\n",
              "  </div>\n",
              "\n",
              "\n",
              "<div id=\"df-2ff06d76-8539-498c-a795-e10dc509bc77\">\n",
              "  <button class=\"colab-df-quickchart\" onclick=\"quickchart('df-2ff06d76-8539-498c-a795-e10dc509bc77')\"\n",
              "            title=\"Suggest charts\"\n",
              "            style=\"display:none;\">\n",
              "\n",
              "<svg xmlns=\"http://www.w3.org/2000/svg\" height=\"24px\"viewBox=\"0 0 24 24\"\n",
              "     width=\"24px\">\n",
              "    <g>\n",
              "        <path d=\"M19 3H5c-1.1 0-2 .9-2 2v14c0 1.1.9 2 2 2h14c1.1 0 2-.9 2-2V5c0-1.1-.9-2-2-2zM9 17H7v-7h2v7zm4 0h-2V7h2v10zm4 0h-2v-4h2v4z\"/>\n",
              "    </g>\n",
              "</svg>\n",
              "  </button>\n",
              "\n",
              "<style>\n",
              "  .colab-df-quickchart {\n",
              "      --bg-color: #E8F0FE;\n",
              "      --fill-color: #1967D2;\n",
              "      --hover-bg-color: #E2EBFA;\n",
              "      --hover-fill-color: #174EA6;\n",
              "      --disabled-fill-color: #AAA;\n",
              "      --disabled-bg-color: #DDD;\n",
              "  }\n",
              "\n",
              "  [theme=dark] .colab-df-quickchart {\n",
              "      --bg-color: #3B4455;\n",
              "      --fill-color: #D2E3FC;\n",
              "      --hover-bg-color: #434B5C;\n",
              "      --hover-fill-color: #FFFFFF;\n",
              "      --disabled-bg-color: #3B4455;\n",
              "      --disabled-fill-color: #666;\n",
              "  }\n",
              "\n",
              "  .colab-df-quickchart {\n",
              "    background-color: var(--bg-color);\n",
              "    border: none;\n",
              "    border-radius: 50%;\n",
              "    cursor: pointer;\n",
              "    display: none;\n",
              "    fill: var(--fill-color);\n",
              "    height: 32px;\n",
              "    padding: 0;\n",
              "    width: 32px;\n",
              "  }\n",
              "\n",
              "  .colab-df-quickchart:hover {\n",
              "    background-color: var(--hover-bg-color);\n",
              "    box-shadow: 0 1px 2px rgba(60, 64, 67, 0.3), 0 1px 3px 1px rgba(60, 64, 67, 0.15);\n",
              "    fill: var(--button-hover-fill-color);\n",
              "  }\n",
              "\n",
              "  .colab-df-quickchart-complete:disabled,\n",
              "  .colab-df-quickchart-complete:disabled:hover {\n",
              "    background-color: var(--disabled-bg-color);\n",
              "    fill: var(--disabled-fill-color);\n",
              "    box-shadow: none;\n",
              "  }\n",
              "\n",
              "  .colab-df-spinner {\n",
              "    border: 2px solid var(--fill-color);\n",
              "    border-color: transparent;\n",
              "    border-bottom-color: var(--fill-color);\n",
              "    animation:\n",
              "      spin 1s steps(1) infinite;\n",
              "  }\n",
              "\n",
              "  @keyframes spin {\n",
              "    0% {\n",
              "      border-color: transparent;\n",
              "      border-bottom-color: var(--fill-color);\n",
              "      border-left-color: var(--fill-color);\n",
              "    }\n",
              "    20% {\n",
              "      border-color: transparent;\n",
              "      border-left-color: var(--fill-color);\n",
              "      border-top-color: var(--fill-color);\n",
              "    }\n",
              "    30% {\n",
              "      border-color: transparent;\n",
              "      border-left-color: var(--fill-color);\n",
              "      border-top-color: var(--fill-color);\n",
              "      border-right-color: var(--fill-color);\n",
              "    }\n",
              "    40% {\n",
              "      border-color: transparent;\n",
              "      border-right-color: var(--fill-color);\n",
              "      border-top-color: var(--fill-color);\n",
              "    }\n",
              "    60% {\n",
              "      border-color: transparent;\n",
              "      border-right-color: var(--fill-color);\n",
              "    }\n",
              "    80% {\n",
              "      border-color: transparent;\n",
              "      border-right-color: var(--fill-color);\n",
              "      border-bottom-color: var(--fill-color);\n",
              "    }\n",
              "    90% {\n",
              "      border-color: transparent;\n",
              "      border-bottom-color: var(--fill-color);\n",
              "    }\n",
              "  }\n",
              "</style>\n",
              "\n",
              "  <script>\n",
              "    async function quickchart(key) {\n",
              "      const quickchartButtonEl =\n",
              "        document.querySelector('#' + key + ' button');\n",
              "      quickchartButtonEl.disabled = true;  // To prevent multiple clicks.\n",
              "      quickchartButtonEl.classList.add('colab-df-spinner');\n",
              "      try {\n",
              "        const charts = await google.colab.kernel.invokeFunction(\n",
              "            'suggestCharts', [key], {});\n",
              "      } catch (error) {\n",
              "        console.error('Error during call to suggestCharts:', error);\n",
              "      }\n",
              "      quickchartButtonEl.classList.remove('colab-df-spinner');\n",
              "      quickchartButtonEl.classList.add('colab-df-quickchart-complete');\n",
              "    }\n",
              "    (() => {\n",
              "      let quickchartButtonEl =\n",
              "        document.querySelector('#df-2ff06d76-8539-498c-a795-e10dc509bc77 button');\n",
              "      quickchartButtonEl.style.display =\n",
              "        google.colab.kernel.accessAllowed ? 'block' : 'none';\n",
              "    })();\n",
              "  </script>\n",
              "</div>\n",
              "\n",
              "  <div id=\"id_5f5772e2-045a-439a-8cbb-f666ab267e5e\">\n",
              "    <style>\n",
              "      .colab-df-generate {\n",
              "        background-color: #E8F0FE;\n",
              "        border: none;\n",
              "        border-radius: 50%;\n",
              "        cursor: pointer;\n",
              "        display: none;\n",
              "        fill: #1967D2;\n",
              "        height: 32px;\n",
              "        padding: 0 0 0 0;\n",
              "        width: 32px;\n",
              "      }\n",
              "\n",
              "      .colab-df-generate:hover {\n",
              "        background-color: #E2EBFA;\n",
              "        box-shadow: 0px 1px 2px rgba(60, 64, 67, 0.3), 0px 1px 3px 1px rgba(60, 64, 67, 0.15);\n",
              "        fill: #174EA6;\n",
              "      }\n",
              "\n",
              "      [theme=dark] .colab-df-generate {\n",
              "        background-color: #3B4455;\n",
              "        fill: #D2E3FC;\n",
              "      }\n",
              "\n",
              "      [theme=dark] .colab-df-generate:hover {\n",
              "        background-color: #434B5C;\n",
              "        box-shadow: 0px 1px 3px 1px rgba(0, 0, 0, 0.15);\n",
              "        filter: drop-shadow(0px 1px 2px rgba(0, 0, 0, 0.3));\n",
              "        fill: #FFFFFF;\n",
              "      }\n",
              "    </style>\n",
              "    <button class=\"colab-df-generate\" onclick=\"generateWithVariable('test_prediction_Ensemble_Stacking_20240319')\"\n",
              "            title=\"Generate code using this dataframe.\"\n",
              "            style=\"display:none;\">\n",
              "\n",
              "  <svg xmlns=\"http://www.w3.org/2000/svg\" height=\"24px\"viewBox=\"0 0 24 24\"\n",
              "       width=\"24px\">\n",
              "    <path d=\"M7,19H8.4L18.45,9,17,7.55,7,17.6ZM5,21V16.75L18.45,3.32a2,2,0,0,1,2.83,0l1.4,1.43a1.91,1.91,0,0,1,.58,1.4,1.91,1.91,0,0,1-.58,1.4L9.25,21ZM18.45,9,17,7.55Zm-12,3A5.31,5.31,0,0,0,4.9,8.1,5.31,5.31,0,0,0,1,6.5,5.31,5.31,0,0,0,4.9,4.9,5.31,5.31,0,0,0,6.5,1,5.31,5.31,0,0,0,8.1,4.9,5.31,5.31,0,0,0,12,6.5,5.46,5.46,0,0,0,6.5,12Z\"/>\n",
              "  </svg>\n",
              "    </button>\n",
              "    <script>\n",
              "      (() => {\n",
              "      const buttonEl =\n",
              "        document.querySelector('#id_5f5772e2-045a-439a-8cbb-f666ab267e5e button.colab-df-generate');\n",
              "      buttonEl.style.display =\n",
              "        google.colab.kernel.accessAllowed ? 'block' : 'none';\n",
              "\n",
              "      buttonEl.onclick = () => {\n",
              "        google.colab.notebook.generateWithVariable('test_prediction_Ensemble_Stacking_20240319');\n",
              "      }\n",
              "      })();\n",
              "    </script>\n",
              "  </div>\n",
              "\n",
              "    </div>\n",
              "  </div>\n"
            ],
            "application/vnd.google.colaboratory.intrinsic+json": {
              "type": "dataframe",
              "variable_name": "test_prediction_Ensemble_Stacking_20240319",
              "summary": "{\n  \"name\": \"test_prediction_Ensemble_Stacking_20240319\",\n  \"rows\": 600,\n  \"fields\": [\n    {\n      \"column\": \"id\",\n      \"properties\": {\n        \"dtype\": \"number\",\n        \"std\": 173,\n        \"min\": 0,\n        \"max\": 599,\n        \"num_unique_values\": 600,\n        \"samples\": [\n          110,\n          419,\n          565\n        ],\n        \"semantic_type\": \"\",\n        \"description\": \"\"\n      }\n    },\n    {\n      \"column\": \"subreddit\",\n      \"properties\": {\n        \"dtype\": \"number\",\n        \"std\": 1,\n        \"min\": 0,\n        \"max\": 3,\n        \"num_unique_values\": 4,\n        \"samples\": [\n          1,\n          3,\n          0\n        ],\n        \"semantic_type\": \"\",\n        \"description\": \"\"\n      }\n    }\n  ]\n}"
            }
          },
          "metadata": {},
          "execution_count": 37
        }
      ]
    },
    {
      "cell_type": "code",
      "source": [
        "label_name_list"
      ],
      "metadata": {
        "colab": {
          "base_uri": "https://localhost:8080/"
        },
        "id": "VgbZfab2V5UD",
        "outputId": "1936f050-79e0-4444-bbec-3735ec2aafa3"
      },
      "execution_count": null,
      "outputs": [
        {
          "output_type": "execute_result",
          "data": {
            "text/plain": [
              "['Melbourne', 'Paris', 'London', 'Montreal']"
            ]
          },
          "metadata": {},
          "execution_count": 39
        }
      ]
    },
    {
      "cell_type": "code",
      "source": [
        "test_prediction_Ensemble_Stacking_20240319.to_csv('/content/drive/MyDrive/Colab Notebooks/ECSE551 Machine Learning for Engineers/project2/test_prediction/test_prediction_Ensemble_Stacking_20240319.csv',index=False)"
      ],
      "metadata": {
        "id": "vJjVFfHIVfGd"
      },
      "execution_count": null,
      "outputs": []
    }
  ]
}